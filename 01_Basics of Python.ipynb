{
 "cells": [
  {
   "cell_type": "markdown",
   "id": "f9111340",
   "metadata": {},
   "source": [
    "# Introduction to Python\n",
    "\n",
    "Python is a general purpose, dynamic, high-level, and interpreted programming language. It supports Object Oriented programming approach to develop applications. It is simple and easy to learn and provides lots of high-level data structures. Python is easy to learn yet powerful and versatile scripting language, which makes it attractive for Application Development.\n",
    "\n",
    "Python's syntax and dynamic typing with its interpreted nature make it an ideal language for scripting and rapid application development. Python supports multiple programming pattern, including object-oriented, imperative, and functional or procedural programming styles.\n",
    "\n",
    "Python is not intended to work in a particular area, such as web programming. That is why it is known as multipurpose programming language because it can be used with web, enterprise, 3D CAD, etc. We don't need to use data types to declare variable because it is dynamically typed so we can write a=10 to assign an integer value in an integer variable.\n",
    "\n",
    "Python makes the development and debugging fast because there is no compilation step included in Python development, and edit-test-debug cycle is very fast."
   ]
  },
  {
   "cell_type": "markdown",
   "id": "1822a585",
   "metadata": {},
   "source": [
    "# Python Features\n",
    "\n",
    "Python provides many useful features which make it popular and valuable from the other programming languages. It supports object-oriented programming, procedural programming approaches and provides dynamic memory allocation. We have listed below a few essential features.\n",
    "\n",
    "**1) Easy to Learn and Use**\n",
    "Python is easy to learn as compared to other programming languages. Its syntax is straightforward and much the same as the English language. There is no use of the semicolon or curly-bracket, the indentation defines the code block. It is the recommended programming language for beginners.\n",
    "\n",
    "**2) Expressive Language**\n",
    "Python can perform complex tasks using a few lines of code. A simple example, the hello world program you simply type print(\"Hello World\"). It will take only one line to execute, while Java or C takes multiple lines.\n",
    "\n",
    "**3) Interpreted Language**\n",
    "Python is an interpreted language; it means the Python program is executed one line at a time. The advantage of being interpreted language, it makes debugging easy and portable.\n",
    "\n",
    "**4) Cross-platform Language**\n",
    "Python can run equally on different platforms such as Windows, Linux, UNIX, and Macintosh, etc. So, we can say that Python is a portable language. It enables programmers to develop the software for several competing platforms by writing a program only once.\n",
    "\n",
    "**5) Free and Open Source**\n",
    "Python is freely available for everyone. It is freely available on its official website www.python.org. It has a large community across the world that is dedicatedly working towards make new python modules and functions. Anyone can contribute to the Python community. The open-source means, \"Anyone can download its source code without paying any penny.\"\n",
    "\n",
    "**6) Object-Oriented Language**\n",
    "Python supports object-oriented language and concepts of classes and objects come into existence. It supports inheritance, polymorphism, and encapsulation, etc. The object-oriented procedure helps to programmer to write reusable code and develop applications in less code.\n",
    "\n",
    "**7) Extensible**\n",
    "It implies that other languages such as C/C++ can be used to compile the code and thus it can be used further in our Python code. It converts the program into byte code, and any platform can use that byte code.\n",
    "\n",
    "**8) Large Standard Library**\n",
    "It provides a vast range of libraries for the various fields such as machine learning, web developer, and also for the scripting. There are various machine learning libraries, such as Tensor flow, Pandas, Numpy, Keras, and Pytorch, etc. Django, flask, pyramids are the popular framework for Python web development.\n",
    "\n",
    "**9) GUI Programming Support**\n",
    "Graphical User Interface is used for the developing Desktop application. PyQT5, Tkinter, Kivy are the libraries which are used for developing the web application.\n",
    "\n",
    "**10) Integrated**\n",
    "It can be easily integrated with languages like C, C++, and JAVA, etc. Python runs code line by line like C,C++ Java. It makes easy to debug the code.\n",
    "\n",
    "**11. Embeddable**\n",
    "The code of the other programming language can use in the Python source code. We can use Python source code in another programming language as well. It can embed other language into our code.\n",
    "\n",
    "**12. Dynamic Memory Allocation**\n",
    "In Python, we don't need to specify the data-type of the variable. When we assign some value to the variable, it automatically allocates the memory to the variable at run time. Suppose we are assigned integer value 15 to x, then we don't need to write int x = 15. Just write x = 15.|"
   ]
  },
  {
   "cell_type": "markdown",
   "id": "884cea9d",
   "metadata": {},
   "source": [
    "# Python Keywords\n",
    "\n",
    "Keywords are the reserved words in python.\n",
    "\n",
    "We can't use a keyword as a variable name, function name or any other identifier.\n",
    "\n",
    "Keywords are case sensetive."
   ]
  },
  {
   "cell_type": "code",
   "execution_count": 1,
   "id": "8508a476",
   "metadata": {},
   "outputs": [
    {
     "name": "stdout",
     "output_type": "stream",
     "text": [
      "['False', 'None', 'True', 'and', 'as', 'assert', 'async', 'await', 'break', 'class', 'continue', 'def', 'del', 'elif', 'else', 'except', 'finally', 'for', 'from', 'global', 'if', 'import', 'in', 'is', 'lambda', 'nonlocal', 'not', 'or', 'pass', 'raise', 'return', 'try', 'while', 'with', 'yield']\n",
      "\n",
      "Total number of keywords:  35\n"
     ]
    }
   ],
   "source": [
    "# Get all keywords of python 3.6\n",
    "\n",
    "import keyword\n",
    "\n",
    "print(keyword.kwlist)\n",
    "\n",
    "print(\"\\nTotal number of keywords: \", len(keyword.kwlist))"
   ]
  },
  {
   "cell_type": "markdown",
   "id": "a180f175",
   "metadata": {},
   "source": [
    "# Identifiers\n",
    "\n",
    "Identifier is the name given to the entities like class, function, variables, etc. in python. It helps differentiating one entity from another.\n",
    "\n",
    "Rules for writing identifier:\n",
    "\n",
    "1. Identifier can be combination of letters in lowercase (a to z) or uppercase (A to Z) or digits (0 to 9) or an underscore (_).\n",
    "2. An identifier cannot start with a digit. 1variable is invalud, but variable1 is perfectly fine.\n",
    "3. Keywords cannot be used as identifiers."
   ]
  },
  {
   "cell_type": "code",
   "execution_count": 2,
   "id": "10707eef",
   "metadata": {},
   "outputs": [
    {
     "ename": "SyntaxError",
     "evalue": "invalid syntax (<ipython-input-2-a1987652aafc>, line 2)",
     "output_type": "error",
     "traceback": [
      "\u001b[1;36m  File \u001b[1;32m\"<ipython-input-2-a1987652aafc>\"\u001b[1;36m, line \u001b[1;32m2\u001b[0m\n\u001b[1;33m    global = 1\u001b[0m\n\u001b[1;37m           ^\u001b[0m\n\u001b[1;31mSyntaxError\u001b[0m\u001b[1;31m:\u001b[0m invalid syntax\n"
     ]
    }
   ],
   "source": [
    "abc12 = 12;\n",
    "global = 1"
   ]
  },
  {
   "cell_type": "markdown",
   "id": "694d480f",
   "metadata": {},
   "source": [
    "We cannot use sepcial symbols like !, @, #, $, % etc. in our identifier"
   ]
  },
  {
   "cell_type": "code",
   "execution_count": 3,
   "id": "f528665b",
   "metadata": {},
   "outputs": [
    {
     "ename": "SyntaxError",
     "evalue": "invalid syntax (<ipython-input-3-72c123a7d449>, line 1)",
     "output_type": "error",
     "traceback": [
      "\u001b[1;36m  File \u001b[1;32m\"<ipython-input-3-72c123a7d449>\"\u001b[1;36m, line \u001b[1;32m1\u001b[0m\n\u001b[1;33m    a@ = 10         #can't use special symbols as an identifier\u001b[0m\n\u001b[1;37m       ^\u001b[0m\n\u001b[1;31mSyntaxError\u001b[0m\u001b[1;31m:\u001b[0m invalid syntax\n"
     ]
    }
   ],
   "source": [
    "a@ = 10         #can't use special symbols as an identifier"
   ]
  },
  {
   "cell_type": "markdown",
   "id": "9a65b03d",
   "metadata": {},
   "source": [
    "# Python Comments\n",
    "\n",
    "Comments are lines that exists in computer programs that are ignored by compilers and interpreters.\n",
    "\n",
    "Including comments in programs makes code more readable for humans as it provides some information or explaination about what each part of a program is doing.\n",
    "\n",
    "In general, it is a good idea to write comments while you are writing or updating a program as it is easy to forget you though process later on, and comments written later may be less useful in the long term."
   ]
  },
  {
   "cell_type": "markdown",
   "id": "34681416",
   "metadata": {},
   "source": [
    "In python, we use hash(#) symbol to start writing a comment."
   ]
  },
  {
   "cell_type": "code",
   "execution_count": 4,
   "id": "d5898b0d",
   "metadata": {},
   "outputs": [
    {
     "name": "stdout",
     "output_type": "stream",
     "text": [
      "Hello World\n"
     ]
    }
   ],
   "source": [
    "#Print Hello, word to console\n",
    "print(\"Hello World\")"
   ]
  },
  {
   "cell_type": "markdown",
   "id": "32b87a6a",
   "metadata": {},
   "source": [
    "# Multi Line Comments\n",
    "\n",
    "If we have comments that extend multiple lines, one way of doing it is to use hash (#) in the beignning of each line."
   ]
  },
  {
   "cell_type": "code",
   "execution_count": null,
   "id": "a41df65c",
   "metadata": {},
   "outputs": [],
   "source": [
    "#This is long comment\n",
    "#and it extends\n",
    "#Multiple lines"
   ]
  },
  {
   "cell_type": "markdown",
   "id": "3a4f40ef",
   "metadata": {},
   "source": [
    "Another way of doing this is to use tripple quotes, either ''' or \"\"\""
   ]
  },
  {
   "cell_type": "code",
   "execution_count": 5,
   "id": "21e77518",
   "metadata": {},
   "outputs": [
    {
     "data": {
      "text/plain": [
       "'This is also a \\nperfect example of\\nmulti-line comment'"
      ]
     },
     "execution_count": 5,
     "metadata": {},
     "output_type": "execute_result"
    }
   ],
   "source": [
    "\"\"\"This is also a \n",
    "perfect example of\n",
    "multi-line comment\"\"\""
   ]
  },
  {
   "cell_type": "markdown",
   "id": "654aebce",
   "metadata": {},
   "source": [
    "# Python Indentation\n",
    "\n",
    "1. Most of the programming language like C,C++,Java use braces { } to define a block of code. Python uses indentation.\n",
    "2. A code block (body of a function, loop, etc.) starts with indentation and ends with the first unindented line. The amount of indentation is up to you, but it must be consistent throughout the block.\n",
    "3. Generally four whitespaces are used for indentation and is preferred over tabs."
   ]
  },
  {
   "cell_type": "code",
   "execution_count": 6,
   "id": "9110a34d",
   "metadata": {},
   "outputs": [
    {
     "name": "stdout",
     "output_type": "stream",
     "text": [
      "0\n",
      "1\n",
      "2\n",
      "3\n",
      "4\n",
      "5\n",
      "6\n",
      "7\n",
      "8\n",
      "9\n"
     ]
    }
   ],
   "source": [
    "for i in range(10): \n",
    "    print(i)"
   ]
  },
  {
   "cell_type": "markdown",
   "id": "46875198",
   "metadata": {},
   "source": [
    "Identation can be ignored in line continuation. But it's a good idea to always indent. It makes the code more readable."
   ]
  },
  {
   "cell_type": "code",
   "execution_count": 7,
   "id": "396cfe97",
   "metadata": {},
   "outputs": [
    {
     "name": "stdout",
     "output_type": "stream",
     "text": [
      "Machine Learing\n"
     ]
    }
   ],
   "source": [
    "if True:\n",
    "    print(\"Machine Learing\")\n",
    "    c = \"AAIC\""
   ]
  },
  {
   "cell_type": "code",
   "execution_count": 8,
   "id": "5444a4cc",
   "metadata": {},
   "outputs": [
    {
     "name": "stdout",
     "output_type": "stream",
     "text": [
      "Machine Learing\n"
     ]
    }
   ],
   "source": [
    "if True: print(\"Machine Learing\"); c = \"AAIX\""
   ]
  },
  {
   "cell_type": "markdown",
   "id": "6a965d7b",
   "metadata": {},
   "source": [
    "# Statements\n",
    "\n",
    "Instructions that a Python interpretor can execute are called statements"
   ]
  },
  {
   "cell_type": "code",
   "execution_count": 9,
   "id": "1854e549",
   "metadata": {},
   "outputs": [],
   "source": [
    "a = 1 #single statement"
   ]
  },
  {
   "cell_type": "markdown",
   "id": "bd674a1b",
   "metadata": {},
   "source": [
    "# Multi-line statements\n",
    "\n",
    "In python, end of a statement is marked by a newline character. But we can make a statement extend ove multiple lines with the line continuation character ()."
   ]
  },
  {
   "cell_type": "code",
   "execution_count": 11,
   "id": "e9a9cede",
   "metadata": {},
   "outputs": [],
   "source": [
    "a = 1 + 2 + 3 + \\\n",
    "    4 + 5 + 6 + \\\n",
    "    7 + 8"
   ]
  },
  {
   "cell_type": "code",
   "execution_count": 12,
   "id": "aceb42cd",
   "metadata": {},
   "outputs": [
    {
     "name": "stdout",
     "output_type": "stream",
     "text": [
      "36\n"
     ]
    }
   ],
   "source": [
    "print(a)"
   ]
  },
  {
   "cell_type": "code",
   "execution_count": 13,
   "id": "f2bbc243",
   "metadata": {},
   "outputs": [
    {
     "name": "stdout",
     "output_type": "stream",
     "text": [
      "36\n"
     ]
    }
   ],
   "source": [
    "#another way is to use paranthesis\n",
    "a = (1 + 2 + 3 + \n",
    "    4 + 5 + 6 +\n",
    "    7 + 8)\n",
    "print (a)"
   ]
  },
  {
   "cell_type": "code",
   "execution_count": null,
   "id": "21371b39",
   "metadata": {},
   "outputs": [],
   "source": [
    "a = 10; b = 20; c =30 #put multiple statements in a single line using ;"
   ]
  },
  {
   "cell_type": "markdown",
   "id": "ae44609e",
   "metadata": {},
   "source": [
    "# Variables, Datatypes and Typecasting\n",
    "\n",
    "### Variable\n",
    "A variable is a name given to any storage area or memory location in a program.\n",
    "\n",
    "In simple words, we can say that a variable is a container that contains some information, and whenever we need that information, we use the name of that container to access it. \n",
    "\n",
    "A variable is a location in memory used to store some data (value).\n",
    "\n",
    "They are given unique names to differentiate between different memory locations. The rules for writing a variable name is same as the rules for writing identifiers in Python.\n",
    "\n",
    "We don't need to declare a variable before using it. In python, we simply assign a value to a variable and it will exist. We don't even have to declare the type of the variable. This is handled internally according to the type of value we assign to the variable."
   ]
  },
  {
   "cell_type": "code",
   "execution_count": 15,
   "id": "6c9b679d",
   "metadata": {},
   "outputs": [],
   "source": [
    "a=34 #variable storing an integer\n",
    "b=3.2 #variable storing an real number\n",
    "\n",
    "#Here a and b are variables, and we can use a to access 34 and b to access 23.2. We can also overwrite the values in a and b"
   ]
  },
  {
   "cell_type": "markdown",
   "id": "0f0a29db",
   "metadata": {},
   "source": [
    "## Rules for defining a variable in Python:\n",
    "\n",
    "1. A variable name can contain alphabets, digits, and underscores (_). For E.g. : demo_xyz = ‘It’s a string variable’\n",
    "2. A variable name can only start with an alphabet and underscore.\n",
    "3. It can't start with a digit. For an example, 5Jay is illegal and not allowed.\n",
    "4. No white-space is allowed to be used inside a variable name.\n",
    "5. Also, reserved keywords are not recommended to be used as variable names. Examples of few valid variable names are harry, _demo, de_mo, etc.\n",
    "\n",
    "Python is a fantastic language that automatically identifies the type of data for us. It means we need to put some data in a variable, and Python automatically understands the kind of data a variable is holding."
   ]
  },
  {
   "cell_type": "markdown",
   "id": "71a1b526",
   "metadata": {},
   "source": [
    "# Variable Assignments"
   ]
  },
  {
   "cell_type": "code",
   "execution_count": 14,
   "id": "32a252bf",
   "metadata": {},
   "outputs": [],
   "source": [
    "#We use the assignment operator (=) to assign values to a variable\n",
    "\n",
    "a = 10   # a is variable and 10 is the value and hence memory is allocated\n",
    "b = 5.5\n",
    "c = \"ML\""
   ]
  },
  {
   "cell_type": "markdown",
   "id": "424f88de",
   "metadata": {},
   "source": [
    "# Multiple Assignments"
   ]
  },
  {
   "cell_type": "code",
   "execution_count": 16,
   "id": "24ddb765",
   "metadata": {},
   "outputs": [],
   "source": [
    "a, b, c = 10, 5.5, \"ML\""
   ]
  },
  {
   "cell_type": "code",
   "execution_count": 17,
   "id": "0f1e6a61",
   "metadata": {},
   "outputs": [],
   "source": [
    "a = b = c = \"AI\" #assign the same value to multiple variables at once"
   ]
  },
  {
   "cell_type": "markdown",
   "id": "8b237f66",
   "metadata": {},
   "source": [
    "# Storage Locations"
   ]
  },
  {
   "cell_type": "code",
   "execution_count": 18,
   "id": "96b5d414",
   "metadata": {},
   "outputs": [
    {
     "name": "stdout",
     "output_type": "stream",
     "text": [
      "140706766464880\n"
     ]
    }
   ],
   "source": [
    "x = 3\n",
    "\n",
    "print(id(x))   #print address of variable x"
   ]
  },
  {
   "cell_type": "code",
   "execution_count": 19,
   "id": "e615cfa7",
   "metadata": {},
   "outputs": [
    {
     "name": "stdout",
     "output_type": "stream",
     "text": [
      "140706766464880\n"
     ]
    }
   ],
   "source": [
    "y = 3\n",
    "\n",
    "print(id(y))  #print address of variable y"
   ]
  },
  {
   "cell_type": "markdown",
   "id": "eac7e788",
   "metadata": {},
   "source": [
    "Observations\n",
    "\n",
    "x and y points to same memory location"
   ]
  },
  {
   "cell_type": "code",
   "execution_count": 20,
   "id": "cafea93e",
   "metadata": {},
   "outputs": [
    {
     "name": "stdout",
     "output_type": "stream",
     "text": [
      "140706766464848\n"
     ]
    }
   ],
   "source": [
    "y = 2\n",
    "\n",
    "print(id(y))"
   ]
  },
  {
   "cell_type": "markdown",
   "id": "82c6d57e",
   "metadata": {},
   "source": [
    "# Data types\n",
    "\n",
    "Every value in Python has a datatype. Since everything is an object in Python programming, data types are actually classes and variables are instance (object) of these classes.\n",
    "\n",
    "Primarily there are following data types in Python.\n",
    "\n",
    "1. Integers (<class 'int'>): Used to store integers\n",
    "2. Floating point numbers (<class 'float'>): Used to store decimal or floating-point numbers\n",
    "3. Strings (<class 'str'>): Used to store strings\n",
    "4. Booleans (<class 'bool'>): Used to store True/False type values\n",
    "5. None: None is a literal to describe 'Nothing' in Python"
   ]
  },
  {
   "cell_type": "markdown",
   "id": "e826e61f",
   "metadata": {},
   "source": [
    "# type() Function in Python:\n",
    "\n",
    "type() function is a function that allows a user to find data type of any variable. It returns the data type of any data contained in the variable passed to it."
   ]
  },
  {
   "cell_type": "code",
   "execution_count": 21,
   "id": "d649b280",
   "metadata": {},
   "outputs": [
    {
     "name": "stdout",
     "output_type": "stream",
     "text": [
      "<class 'str'>\n",
      "<class 'float'>\n",
      "<class 'int'>\n"
     ]
    }
   ],
   "source": [
    "#type() function in Python\n",
    "jay = \"40\"\n",
    "demo1 = 55.5\n",
    "demo2 = 40\n",
    "\n",
    "print(type(jay)) #It will give output as string type\n",
    "print(type(demo1)) #It will give output as a float type\n",
    "print(type(demo2)) #It will give output as a int type"
   ]
  },
  {
   "cell_type": "markdown",
   "id": "36ea6e27",
   "metadata": {},
   "source": [
    "# Numbers\n",
    "\n",
    "Integers, floating point numbers and complex numbers falls under Python numbers category. They are defined as int, float and complex class in Python\n",
    "\n",
    "We can use the type() function to know which class a variable or a value belongs to and the isinstance() function to check if an object belongs to a particular class."
   ]
  },
  {
   "cell_type": "code",
   "execution_count": 22,
   "id": "a9398d4c",
   "metadata": {},
   "outputs": [
    {
     "name": "stdout",
     "output_type": "stream",
     "text": [
      "5 is of type <class 'int'>\n"
     ]
    }
   ],
   "source": [
    "a = 5        #data type is implicitly set of integer\n",
    "print(f'{a} is of type {type(a)}')"
   ]
  },
  {
   "cell_type": "code",
   "execution_count": 23,
   "id": "cbd04f15",
   "metadata": {},
   "outputs": [
    {
     "name": "stdout",
     "output_type": "stream",
     "text": [
      "2.5 is of type <class 'float'>\n"
     ]
    }
   ],
   "source": [
    "a = 2.5     #data type is changed to float\n",
    "print(f'{a} is of type {type(a)}')"
   ]
  },
  {
   "cell_type": "code",
   "execution_count": 24,
   "id": "9d4b61e9",
   "metadata": {},
   "outputs": [
    {
     "name": "stdout",
     "output_type": "stream",
     "text": [
      "(1+2j) is complex number?\n",
      "True\n",
      "<class 'complex'>\n"
     ]
    }
   ],
   "source": [
    "a = 1 + 2j      #data type is changed to cmplex number\n",
    "print(f'{a} is complex number?')\n",
    "print(isinstance(1+2j, complex)) #isinstance() is function to check the data type of variable and returns boolean value True or False\n",
    "print(type(a))"
   ]
  },
  {
   "cell_type": "markdown",
   "id": "2d16b362",
   "metadata": {},
   "source": [
    "# Boolean\n",
    "\n",
    "Boolean represnts the truth values False and true"
   ]
  },
  {
   "cell_type": "code",
   "execution_count": 25,
   "id": "658bf12e",
   "metadata": {},
   "outputs": [
    {
     "name": "stdout",
     "output_type": "stream",
     "text": [
      "<class 'bool'>\n"
     ]
    }
   ],
   "source": [
    "a = True                         #a is boolean type\n",
    "print(type(a))"
   ]
  },
  {
   "cell_type": "markdown",
   "id": "52beac8d",
   "metadata": {},
   "source": [
    "# Python Strings\n",
    "\n",
    "String is a sequence of Unicode characters, they can aslo strore non-english characters.\n",
    "\n",
    "We can use single quotes or double quotes to represent strings\n",
    "\n",
    "Multi-line strings can be denoted using triple quotes ''' or \"\"\"\n",
    "\n",
    "A string in Python consists of a series or sequence of characters - letters, numbers and special characters.\n",
    "\n",
    "Strings can be indexed - often synonumusly called subscripted as well.\n",
    "\n",
    "Similar to C. the first character of a string has the index 0"
   ]
  },
  {
   "cell_type": "code",
   "execution_count": 26,
   "id": "9d46715f",
   "metadata": {},
   "outputs": [
    {
     "name": "stdout",
     "output_type": "stream",
     "text": [
      "This is a online AI course\n"
     ]
    }
   ],
   "source": [
    "a = \"This is a online AI course\"\n",
    "print(a)"
   ]
  },
  {
   "cell_type": "code",
   "execution_count": 27,
   "id": "9fb3258f",
   "metadata": {},
   "outputs": [
    {
     "name": "stdout",
     "output_type": "stream",
     "text": [
      "<class 'str'>\n"
     ]
    }
   ],
   "source": [
    "print(type(a))"
   ]
  },
  {
   "cell_type": "code",
   "execution_count": 28,
   "id": "fdd9abe1",
   "metadata": {},
   "outputs": [
    {
     "name": "stdout",
     "output_type": "stream",
     "text": [
      "T\n"
     ]
    }
   ],
   "source": [
    "print(a[0]) \n",
    "#last char s[len(s-1)] or s[-1]"
   ]
  },
  {
   "cell_type": "code",
   "execution_count": 29,
   "id": "d88086cc",
   "metadata": {},
   "outputs": [
    {
     "name": "stdout",
     "output_type": "stream",
     "text": [
      "e\n"
     ]
    }
   ],
   "source": [
    "print(a[-1])  #last character"
   ]
  },
  {
   "cell_type": "code",
   "execution_count": 30,
   "id": "fce4616b",
   "metadata": {},
   "outputs": [
    {
     "data": {
      "text/plain": [
       "'is a online AI course'"
      ]
     },
     "execution_count": 30,
     "metadata": {},
     "output_type": "execute_result"
    }
   ],
   "source": [
    "#slicing\n",
    "a[5:]"
   ]
  },
  {
   "cell_type": "markdown",
   "id": "a74f4f66",
   "metadata": {},
   "source": [
    "# Python List\n",
    "\n",
    "List is an ordered sequence of items. It is one of the most used data type in Python and is veryfexible. All the items in a list do not need to be of the same type.\n",
    "\n",
    "Declaring a list is, items seperated by commas are enclosed within brackets []."
   ]
  },
  {
   "cell_type": "code",
   "execution_count": 31,
   "id": "42c39c86",
   "metadata": {},
   "outputs": [
    {
     "name": "stdout",
     "output_type": "stream",
     "text": [
      "[10, 20.5, 'Hello']\n",
      "20.5\n"
     ]
    }
   ],
   "source": [
    "a = [10, 20.5, \"Hello\"]\n",
    "print(a)\n",
    "print(a[1])   #printing 1st element"
   ]
  },
  {
   "cell_type": "code",
   "execution_count": 32,
   "id": "63fb103b",
   "metadata": {},
   "outputs": [
    {
     "name": "stdout",
     "output_type": "stream",
     "text": [
      "[10, 30.7, 'Hello']\n"
     ]
    }
   ],
   "source": [
    "a[1] = 30.7\n",
    "print(a)"
   ]
  },
  {
   "cell_type": "markdown",
   "id": "7b9992d4",
   "metadata": {},
   "source": [
    "# Python Tuple\n",
    "\n",
    "Tuple is a ordered sequence of items same as list. The only difference is that tuples are immutable. Tuples once created cannot be modified."
   ]
  },
  {
   "cell_type": "code",
   "execution_count": 33,
   "id": "479a22e1",
   "metadata": {},
   "outputs": [],
   "source": [
    "t = (1, 1.5, \"ML\")"
   ]
  },
  {
   "cell_type": "code",
   "execution_count": 34,
   "id": "9e54c4b4",
   "metadata": {},
   "outputs": [
    {
     "name": "stdout",
     "output_type": "stream",
     "text": [
      "1.5\n"
     ]
    }
   ],
   "source": [
    "print(t[1])"
   ]
  },
  {
   "cell_type": "code",
   "execution_count": 35,
   "id": "43d0d992",
   "metadata": {},
   "outputs": [
    {
     "ename": "TypeError",
     "evalue": "'tuple' object does not support item assignment",
     "output_type": "error",
     "traceback": [
      "\u001b[1;31m---------------------------------------------------------------------------\u001b[0m",
      "\u001b[1;31mTypeError\u001b[0m                                 Traceback (most recent call last)",
      "\u001b[1;32m<ipython-input-35-826a3e5c5c91>\u001b[0m in \u001b[0;36m<module>\u001b[1;34m\u001b[0m\n\u001b[1;32m----> 1\u001b[1;33m \u001b[0mt\u001b[0m\u001b[1;33m[\u001b[0m\u001b[1;36m1\u001b[0m\u001b[1;33m]\u001b[0m \u001b[1;33m=\u001b[0m \u001b[1;36m1.25\u001b[0m\u001b[1;33m\u001b[0m\u001b[1;33m\u001b[0m\u001b[0m\n\u001b[0m",
      "\u001b[1;31mTypeError\u001b[0m: 'tuple' object does not support item assignment"
     ]
    }
   ],
   "source": [
    "t[1] = 1.25"
   ]
  },
  {
   "cell_type": "markdown",
   "id": "9a2cccd2",
   "metadata": {},
   "source": [
    "# Python Set\n",
    "\n",
    "Set is an unordered collection of unique items. Set is defined by values seperated by comma inside braces {}. Items in a set are not ordered. Set object does not support indexing."
   ]
  },
  {
   "cell_type": "code",
   "execution_count": 36,
   "id": "0cc1fac0",
   "metadata": {},
   "outputs": [
    {
     "name": "stdout",
     "output_type": "stream",
     "text": [
      "{5, 40, 10, 20, 30}\n"
     ]
    }
   ],
   "source": [
    "a = {10, 30, 20, 40, 5}\n",
    "print(a)"
   ]
  },
  {
   "cell_type": "code",
   "execution_count": 37,
   "id": "15ee27f6",
   "metadata": {},
   "outputs": [
    {
     "name": "stdout",
     "output_type": "stream",
     "text": [
      "<class 'set'>\n"
     ]
    }
   ],
   "source": [
    "print(type(a))      #print type of a"
   ]
  },
  {
   "cell_type": "markdown",
   "id": "c752ee4f",
   "metadata": {},
   "source": [
    "We can perform set operations like union, intersection on two sets. Set have unique values."
   ]
  },
  {
   "cell_type": "code",
   "execution_count": 38,
   "id": "336ec67a",
   "metadata": {},
   "outputs": [
    {
     "name": "stdout",
     "output_type": "stream",
     "text": [
      "{10, 20, 30}\n"
     ]
    }
   ],
   "source": [
    "s = {10, 20, 20, 30, 30, 30}   \n",
    "print(s)                     #automaticall set won't consider duplicate elements"
   ]
  },
  {
   "cell_type": "code",
   "execution_count": 39,
   "id": "93e54d61",
   "metadata": {},
   "outputs": [
    {
     "ename": "TypeError",
     "evalue": "'set' object is not subscriptable",
     "output_type": "error",
     "traceback": [
      "\u001b[1;31m---------------------------------------------------------------------------\u001b[0m",
      "\u001b[1;31mTypeError\u001b[0m                                 Traceback (most recent call last)",
      "\u001b[1;32m<ipython-input-39-64f4ee90b9c9>\u001b[0m in \u001b[0;36m<module>\u001b[1;34m\u001b[0m\n\u001b[1;32m----> 1\u001b[1;33m \u001b[0mprint\u001b[0m\u001b[1;33m(\u001b[0m\u001b[0ms\u001b[0m\u001b[1;33m[\u001b[0m\u001b[1;36m1\u001b[0m\u001b[1;33m]\u001b[0m\u001b[1;33m)\u001b[0m \u001b[1;31m# we can't print particular element in a set because it's unorder collections of items\u001b[0m\u001b[1;33m\u001b[0m\u001b[1;33m\u001b[0m\u001b[0m\n\u001b[0m",
      "\u001b[1;31mTypeError\u001b[0m: 'set' object is not subscriptable"
     ]
    }
   ],
   "source": [
    "print(s[1]) # we can't print particular element in a set because it's unorder collections of items"
   ]
  },
  {
   "cell_type": "markdown",
   "id": "2d82a6dd",
   "metadata": {},
   "source": [
    "# Python Dictionary\n",
    "\n",
    "Dictionary is an unordered collection of key-value pairs.\n",
    "\n",
    "In python, dictionaries are defined with braces {} with each item being a pair in the form key:value.\n",
    "\n",
    "Key and value can be of any type.\n",
    "\n",
    "Dictionary is a type of hash table."
   ]
  },
  {
   "cell_type": "code",
   "execution_count": 40,
   "id": "744afdea",
   "metadata": {},
   "outputs": [
    {
     "name": "stdout",
     "output_type": "stream",
     "text": [
      "{'a': 'apple', 'b': 'bat'}\n",
      "apple\n"
     ]
    }
   ],
   "source": [
    "d = {'a': \"apple\", 'b': \"bat\"}\n",
    "print(d)\n",
    "print(d['a'])"
   ]
  },
  {
   "cell_type": "markdown",
   "id": "babb669d",
   "metadata": {},
   "source": [
    "# Conversions between Datatypes (Typecasting)\n",
    "\n",
    "We can convert between different data types by using different type conversion functions like int(), float(), str() etc. this is known as typecasting.\n",
    "\n",
    "Typecasting is the way to change one data type of any data or variable to another datatype, i.e. it changes the data type of any variable to some other data type.\n",
    "\n",
    "Suppose there is a string \"34\" Note: String is not integer since it is enclosed in double-quotes) and as we know we can't add this to an integer number let's say 6. But to do so we can typecast this string to int data type and then we can add 34+6 to get the output as 40. Have a look at the program below:"
   ]
  },
  {
   "cell_type": "code",
   "execution_count": 41,
   "id": "77fa4fe4",
   "metadata": {},
   "outputs": [
    {
     "name": "stdout",
     "output_type": "stream",
     "text": [
      "50\n",
      "50\n",
      "10.0\n"
     ]
    },
    {
     "ename": "TypeError",
     "evalue": "can only concatenate str (not \"int\") to str",
     "output_type": "error",
     "traceback": [
      "\u001b[1;31m---------------------------------------------------------------------------\u001b[0m",
      "\u001b[1;31mTypeError\u001b[0m                                 Traceback (most recent call last)",
      "\u001b[1;32m<ipython-input-41-65f2da1f1a21>\u001b[0m in \u001b[0;36m<module>\u001b[1;34m\u001b[0m\n\u001b[0;32m     13\u001b[0m \u001b[0mprint\u001b[0m\u001b[1;33m(\u001b[0m\u001b[0mfloat\u001b[0m\u001b[1;33m(\u001b[0m\u001b[0mabc\u001b[0m\u001b[1;33m)\u001b[0m\u001b[1;33m+\u001b[0m\u001b[0mxyz\u001b[0m\u001b[1;33m)\u001b[0m \u001b[1;31m#Here abc will be converted to int to float and added with xyz and will return 10.0\u001b[0m\u001b[1;33m\u001b[0m\u001b[1;33m\u001b[0m\u001b[0m\n\u001b[0;32m     14\u001b[0m \u001b[1;33m\u001b[0m\u001b[0m\n\u001b[1;32m---> 15\u001b[1;33m \u001b[0mprint\u001b[0m\u001b[1;33m(\u001b[0m\u001b[0mstr\u001b[0m\u001b[1;33m(\u001b[0m\u001b[0mabc\u001b[0m\u001b[1;33m)\u001b[0m\u001b[1;33m+\u001b[0m\u001b[1;36m45\u001b[0m\u001b[1;33m)\u001b[0m \u001b[1;31m#It will give an error as abc has been changed to string\u001b[0m\u001b[1;33m\u001b[0m\u001b[1;33m\u001b[0m\u001b[0m\n\u001b[0m",
      "\u001b[1;31mTypeError\u001b[0m: can only concatenate str (not \"int\") to str"
     ]
    }
   ],
   "source": [
    "#Typecasting in Python\n",
    "abc = 5\n",
    "abc2 = '45'\n",
    "abc3 = 55.95\n",
    "xyz = 5.0\n",
    "\n",
    "abc4 = int(abc2) #Here we are typecasting abc2 from string to int\n",
    "\n",
    "print(abc+abc4) #Here if observed the Output that we will get is 50\n",
    "\n",
    "print(abc+int(abc2)) #This is another way to typecast with print()\n",
    "\n",
    "print(float(abc)+xyz) #Here abc will be converted to int to float and added with xyz and will return 10.0\n",
    "\n",
    "print(str(abc)+45) #It will give an error as abc has been changed to string"
   ]
  },
  {
   "cell_type": "markdown",
   "id": "138136fa",
   "metadata": {},
   "source": [
    "There are many functions to convert one data type into another type :\n",
    "\n",
    "str() – this function allows us to convert some other data type into a string.\n",
    "\n",
    "int() – this function allows us to convert some other data type into an integer. For example, str(\"34\") returns 34 which is of type integer (int)\n",
    "\n",
    "float() – this function allows us to convert some other data type into floating-point number i.e. a number with decimals."
   ]
  },
  {
   "cell_type": "code",
   "execution_count": 42,
   "id": "09c5532e",
   "metadata": {},
   "outputs": [
    {
     "name": "stdout",
     "output_type": "stream",
     "text": [
      "21.0\n"
     ]
    }
   ],
   "source": [
    "abc = 21\n",
    "print(float(abc))"
   ]
  },
  {
   "cell_type": "markdown",
   "id": "e540ff25",
   "metadata": {},
   "source": [
    "# Python Input and Output"
   ]
  },
  {
   "cell_type": "markdown",
   "id": "021dff96",
   "metadata": {},
   "source": [
    "# Python Output\n",
    "\n",
    "We use print() function to output data to the standard output device."
   ]
  },
  {
   "cell_type": "code",
   "execution_count": 43,
   "id": "196b062e",
   "metadata": {},
   "outputs": [
    {
     "name": "stdout",
     "output_type": "stream",
     "text": [
      "Hello World\n"
     ]
    }
   ],
   "source": [
    "print(\"Hello World\")"
   ]
  },
  {
   "cell_type": "code",
   "execution_count": 44,
   "id": "89361f35",
   "metadata": {},
   "outputs": [
    {
     "name": "stdout",
     "output_type": "stream",
     "text": [
      "The value of a is 10\n",
      "The value of a is 10\n"
     ]
    }
   ],
   "source": [
    "a = 10\n",
    "print(\"The value of a is\", a) #python 3\n",
    "print(\"The value of a is \"+ str(a))"
   ]
  },
  {
   "cell_type": "markdown",
   "id": "4741054b",
   "metadata": {},
   "source": [
    "# Output Formatting"
   ]
  },
  {
   "cell_type": "code",
   "execution_count": 45,
   "id": "8820a487",
   "metadata": {},
   "outputs": [
    {
     "name": "stdout",
     "output_type": "stream",
     "text": [
      "The value of a is 10 and b is 20\n"
     ]
    }
   ],
   "source": [
    "a = 10; b = 20 #multiple statements in single line\n",
    "\n",
    "print(\"The value of a is {} and b is {}\".format(a, b)) #default"
   ]
  },
  {
   "cell_type": "code",
   "execution_count": 46,
   "id": "0a2d59cb",
   "metadata": {},
   "outputs": [
    {
     "name": "stdout",
     "output_type": "stream",
     "text": [
      "The value of b is 20 and a is 10\n"
     ]
    }
   ],
   "source": [
    "a = 10; b = 20 #multiple statements in single line\n",
    "\n",
    "print(\"The value of b is {1} and a is {0}\".format(a, b)) #specify position of variable"
   ]
  },
  {
   "cell_type": "code",
   "execution_count": 47,
   "id": "22c69bed",
   "metadata": {},
   "outputs": [
    {
     "name": "stdout",
     "output_type": "stream",
     "text": [
      "Hello satish, Good Morning\n"
     ]
    }
   ],
   "source": [
    "#We can use keyword arguments to format the string\n",
    "\n",
    "print(\"Hello {name}, {greeting}\".format(name = \"satish\", greeting = \"Good Morning\"))"
   ]
  },
  {
   "cell_type": "code",
   "execution_count": 48,
   "id": "374f3a4b",
   "metadata": {},
   "outputs": [
    {
     "name": "stdout",
     "output_type": "stream",
     "text": [
      "The story of Bill, Manfred, and Georg\n"
     ]
    }
   ],
   "source": [
    "#We can combine positional arguments with keyword arguments\n",
    "\n",
    "print(\"The story of {0}, {1}, and {other}\".format(\"Bill\", \"Manfred\", other=\"Georg\"))"
   ]
  },
  {
   "cell_type": "code",
   "execution_count": 49,
   "id": "31859554",
   "metadata": {},
   "outputs": [
    {
     "name": "stdout",
     "output_type": "stream",
     "text": [
      "Satish is 10 years old.\n"
     ]
    }
   ],
   "source": [
    "#One of the easiest method is by using f''\n",
    "\n",
    "a = 10; name = \"Satish\"\n",
    "print(f\"{name} is {a} years old.\")"
   ]
  },
  {
   "cell_type": "markdown",
   "id": "d38a5177",
   "metadata": {},
   "source": [
    "# Python Input"
   ]
  },
  {
   "cell_type": "markdown",
   "id": "cfd1c4e3",
   "metadata": {},
   "source": [
    "This function allows the user to receive input from the keyboard into the program as a string. \n",
    "\n",
    "input() function always takes input as a string i.e. if we ask the user to take a number as input even then it will take it as a string and we will have to typecast it into another data type as per the use case.\n",
    "\n",
    "If you enter 45 when input() is called, you will get \"45\" as a string"
   ]
  },
  {
   "cell_type": "code",
   "execution_count": 50,
   "id": "8e599395",
   "metadata": {},
   "outputs": [
    {
     "name": "stdout",
     "output_type": "stream",
     "text": [
      "Enter a number: 2\n",
      "2\n"
     ]
    }
   ],
   "source": [
    "a = input(\"Enter a number: \")\n",
    "print(a)"
   ]
  },
  {
   "cell_type": "code",
   "execution_count": 51,
   "id": "2efb1c15",
   "metadata": {},
   "outputs": [
    {
     "name": "stdout",
     "output_type": "stream",
     "text": [
      "Enter your name: \n",
      "jay\n",
      "Your name is jay\n",
      "Enter your age: 23\n",
      "Your age is 23\n"
     ]
    }
   ],
   "source": [
    "# Input function in Python\n",
    "print(\"Enter your name: \")\n",
    "name = input() #It will take input from user\n",
    "print(\"Your name is\",name) #It will show the name\n",
    "\n",
    "xyz = input(\"Enter your age: \")\n",
    "print(\"Your age is\",xyz)"
   ]
  },
  {
   "cell_type": "code",
   "execution_count": 52,
   "id": "52b4db03",
   "metadata": {},
   "outputs": [
    {
     "name": "stdout",
     "output_type": "stream",
     "text": [
      "Enter the first number:\n",
      "23\n",
      "First number is: 23\n",
      "Enter the second number:\n",
      "12\n",
      "Second number is 12\n",
      "The sum of 23 and 12 is 35\n"
     ]
    }
   ],
   "source": [
    "#Program: Create a program that takes two numbers as input from the user and then prints the sum of these numbers.\n",
    "\n",
    "print('Enter the first number:')\n",
    "num1=input()\n",
    "print('First number is:',num1)\n",
    "\n",
    "print('Enter the second number:')\n",
    "num2=input()\n",
    "print('Second number is',num2)\n",
    "\n",
    "print('The sum of '+num1+' and '+num2+' is',int(num1)+int(num2))"
   ]
  },
  {
   "cell_type": "markdown",
   "id": "3d36d990",
   "metadata": {},
   "source": []
  }
 ],
 "metadata": {
  "kernelspec": {
   "display_name": "Python 3",
   "language": "python",
   "name": "python3"
  },
  "language_info": {
   "codemirror_mode": {
    "name": "ipython",
    "version": 3
   },
   "file_extension": ".py",
   "mimetype": "text/x-python",
   "name": "python",
   "nbconvert_exporter": "python",
   "pygments_lexer": "ipython3",
   "version": "3.8.8"
  }
 },
 "nbformat": 4,
 "nbformat_minor": 5
}
