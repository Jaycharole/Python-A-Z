{
 "cells": [
  {
   "cell_type": "markdown",
   "id": "09dde7fd",
   "metadata": {},
   "source": [
    "# PYTHON DECISION MAKING STATEMENTS\n",
    "\n",
    "Decision making is the most important aspect of almost all the programming languages. As the name implies, decision making allows us to run a particular block of code for a particular decision. Here, the decisions are made on the validity of the particular conditions. Condition checking is the backbone of decision making.\n",
    "\n",
    "<img src=\"images\\control_statement_summary.png\">"
   ]
  },
  {
   "cell_type": "markdown",
   "id": "cceece70",
   "metadata": {},
   "source": [
    "# Python if ... else Statement"
   ]
  },
  {
   "cell_type": "markdown",
   "id": "260dd4c6",
   "metadata": {},
   "source": [
    "The **if...elif...else** statement is used in Python for decision making. The if statement is used to test a particular condition and if the condition is true, it executes a block of code known as if-block. The condition of if statement can be any valid logical expression which can be either evaluated to true or false."
   ]
  },
  {
   "cell_type": "markdown",
   "id": "2708fff6",
   "metadata": {},
   "source": [
    "# if statement syntax"
   ]
  },
  {
   "cell_type": "markdown",
   "id": "6d3f09d4",
   "metadata": {},
   "source": [
    "           if test expression:\n",
    "           \n",
    "                statement (s)"
   ]
  },
  {
   "cell_type": "markdown",
   "id": "1028ae28",
   "metadata": {},
   "source": [
    "The program evaluates the test expression and will execute statement(s) only if the text expression is True."
   ]
  },
  {
   "cell_type": "markdown",
   "id": "466f524a",
   "metadata": {},
   "source": [
    "If the text expression is False, the statement(s) is not executed."
   ]
  },
  {
   "cell_type": "markdown",
   "id": "e1458905",
   "metadata": {},
   "source": [
    "Python interprets non-zero values as True. None and 0 are interpreted as False."
   ]
  },
  {
   "cell_type": "markdown",
   "id": "6ab3547d",
   "metadata": {},
   "source": [
    "# Flow Chart\n",
    "\n",
    "<img src=\"images/if_statement.jpg\">"
   ]
  },
  {
   "cell_type": "markdown",
   "id": "a36ac8ca",
   "metadata": {},
   "source": [
    "# Example"
   ]
  },
  {
   "cell_type": "code",
   "execution_count": 1,
   "id": "58b0cfc8",
   "metadata": {},
   "outputs": [
    {
     "name": "stdout",
     "output_type": "stream",
     "text": [
      "This will always print\n"
     ]
    }
   ],
   "source": [
    "num = 10\n",
    "\n",
    "if num > 10:\n",
    "    print(\"Number is positive\")\n",
    "print(\"This will always print\")  #This print statement always print\n",
    "\n",
    "#change numbers"
   ]
  },
  {
   "cell_type": "code",
   "execution_count": 2,
   "id": "5f4d0602",
   "metadata": {},
   "outputs": [
    {
     "name": "stdout",
     "output_type": "stream",
     "text": [
      "Enter first number12\n",
      "Enter second number23\n",
      "Enter third number13\n",
      "b is greatest\n"
     ]
    }
   ],
   "source": [
    "#program to print largest of 3 numbers\n",
    "a=int(input('Enter first number'))\n",
    "b=int(input('Enter second number'))\n",
    "c=int(input('Enter third number'))\n",
    "\n",
    "if a>b and a>c:\n",
    "    print('a is greatest')\n",
    "if b>a and b>c:\n",
    "    print('b is greatest')\n",
    "if c>a and c>b:\n",
    "    print('c is greatest')"
   ]
  },
  {
   "cell_type": "markdown",
   "id": "1843b4d0",
   "metadata": {},
   "source": [
    "# if ... else Statement\n",
    "\n",
    "The if-else statement provides an else block combined with the if statement which is executed in the false case of the condition. If the condition is true, then the if-block is executed. Otherwise, the else-block is executed."
   ]
  },
  {
   "cell_type": "markdown",
   "id": "35c4bde1",
   "metadata": {},
   "source": [
    "# Syntax"
   ]
  },
  {
   "cell_type": "markdown",
   "id": "40c6ec96",
   "metadata": {},
   "source": [
    "     if test expression:\n",
    "     \n",
    "         Body of if\n",
    "         \n",
    "     else:\n",
    "     \n",
    "         Body of else"
   ]
  },
  {
   "cell_type": "markdown",
   "id": "2b90c7ba",
   "metadata": {},
   "source": [
    "# Flowchart\n",
    "\n",
    "<img src=\"images/if_else_statement.jpg\">\n",
    "\n",
    "# Example:"
   ]
  },
  {
   "cell_type": "code",
   "execution_count": 2,
   "id": "b2bc8137",
   "metadata": {},
   "outputs": [
    {
     "name": "stdout",
     "output_type": "stream",
     "text": [
      "Positive number\n"
     ]
    }
   ],
   "source": [
    "num = 10\n",
    "if num > 0:\n",
    "    print(\"Positive number\")\n",
    "else:\n",
    "    print(\"Negative number\")"
   ]
  },
  {
   "cell_type": "code",
   "execution_count": 6,
   "id": "74152fa4",
   "metadata": {},
   "outputs": [
    {
     "name": "stdout",
     "output_type": "stream",
     "text": [
      "Enter the number5\n",
      "Number is a odd number\n"
     ]
    }
   ],
   "source": [
    "#To check whether number is even or odd\n",
    "num=int(input('Enter the number'))\n",
    "if num/2==0:\n",
    "    print('Number is a even number')\n",
    "else:\n",
    "    print('Number is a odd number')"
   ]
  },
  {
   "cell_type": "code",
   "execution_count": 7,
   "id": "a867ee15",
   "metadata": {},
   "outputs": [
    {
     "name": "stdout",
     "output_type": "stream",
     "text": [
      "Enter the age:23\n",
      "You are eligible to vote\n"
     ]
    }
   ],
   "source": [
    "#To check whether candidate is eligible for voting or not\n",
    "age=int(input('Enter the age:'))\n",
    "if age>18:\n",
    "    print('You are eligible to vote')\n",
    "else:\n",
    "    print('You are not eligible to vote')"
   ]
  },
  {
   "cell_type": "code",
   "execution_count": 4,
   "id": "e734c856",
   "metadata": {},
   "outputs": [
    {
     "name": "stdout",
     "output_type": "stream",
     "text": [
      "Enter the number8\n",
      "The square of number is  64\n"
     ]
    }
   ],
   "source": [
    "#we will calculate the square of a number if it greater than 5\n",
    "num=int(input('Enter the number'))\n",
    "if num>5:\n",
    "    print('The square of number is ',num*num)\n",
    "else:\n",
    "    print('Number is smaller than 5')"
   ]
  },
  {
   "cell_type": "code",
   "execution_count": 5,
   "id": "a7ccea1a",
   "metadata": {},
   "outputs": [
    {
     "name": "stdout",
     "output_type": "stream",
     "text": [
      "Correct password\n"
     ]
    }
   ],
   "source": [
    "def password_check(password):\n",
    "    if password == \"PYnative@#29\":\n",
    "        print(\"Correct password\")\n",
    "    else:\n",
    "        print(\"Incorrect Password\")\n",
    "\n",
    "password_check(\"PYnative@#29\")"
   ]
  },
  {
   "cell_type": "markdown",
   "id": "eee5f983",
   "metadata": {},
   "source": [
    "# if ... elif ... else statement\n",
    "\n",
    "The elif statement enables us to check multiple conditions and execute the specific block of statements depending upon the true condition among them. We can have any number of elif statements in our program depending upon our need. However, using elif is optional.\n",
    "\n",
    "The elif statement works like an if-else-if ladder statement in C. It must be succeeded by an if statement."
   ]
  },
  {
   "cell_type": "markdown",
   "id": "ee0a0f0d",
   "metadata": {},
   "source": [
    "# Syntax"
   ]
  },
  {
   "cell_type": "markdown",
   "id": "6165f366",
   "metadata": {},
   "source": [
    "     if test expression:\n",
    "         \n",
    "         Body of if\n",
    "         \n",
    "      elif test expression:\n",
    "      \n",
    "         Body of elif\n",
    "         \n",
    "      else:\n",
    "      \n",
    "         Body of else"
   ]
  },
  {
   "cell_type": "markdown",
   "id": "8286f067",
   "metadata": {},
   "source": [
    "# Flow Chart\n",
    "\n",
    "<img src=\"images/if_elif_else_statement.jpg\">\n",
    "\n",
    "# Example:"
   ]
  },
  {
   "cell_type": "code",
   "execution_count": 3,
   "id": "c21d8c50",
   "metadata": {},
   "outputs": [
    {
     "name": "stdout",
     "output_type": "stream",
     "text": [
      "Positive Number\n"
     ]
    }
   ],
   "source": [
    "num = 10.5\n",
    "\n",
    "if num > 0:\n",
    "    print(\"Positive Number\")\n",
    "\n",
    "elif num == 0:\n",
    "    print(\"ZERO\")\n",
    "    \n",
    "else:\n",
    "    print(\"Negative Number\")"
   ]
  },
  {
   "cell_type": "code",
   "execution_count": 8,
   "id": "76ffcee3",
   "metadata": {},
   "outputs": [
    {
     "name": "stdout",
     "output_type": "stream",
     "text": [
      "Enter the marks? 72\n",
      "You scored grade B + \n"
     ]
    }
   ],
   "source": [
    "#Example of elif statement\n",
    "marks = int(input(\"Enter the marks? \"))  \n",
    "if marks > 85 and marks <= 100:  \n",
    "   print(\"Congrats ! you scored grade A \")  \n",
    "elif marks > 60 and marks <= 85:  \n",
    "   print(\"You scored grade B + \")  \n",
    "elif marks > 40 and marks <= 60:  \n",
    "   print(\"You scored grade B \")  \n",
    "elif (marks > 30 and marks <= 40):  \n",
    "   print(\"You scored grade C \")  \n",
    "else:  \n",
    "   print(\"Sorry you are fail ?\") "
   ]
  },
  {
   "cell_type": "code",
   "execution_count": 9,
   "id": "fcf245ce",
   "metadata": {},
   "outputs": [
    {
     "name": "stdout",
     "output_type": "stream",
     "text": [
      "Contributor\n",
      "Admin\n",
      "Subscriber\n"
     ]
    }
   ],
   "source": [
    "def user_check(choice):\n",
    "    if choice==1:\n",
    "        print('Admin')\n",
    "    elif choice==2:\n",
    "        print('Contributor')\n",
    "    elif choice==3:\n",
    "        print('Subscriber')\n",
    "\n",
    "user_check(2)\n",
    "user_check(1)\n",
    "user_check(3)"
   ]
  },
  {
   "cell_type": "code",
   "execution_count": 10,
   "id": "857057b6",
   "metadata": {},
   "outputs": [
    {
     "name": "stdout",
     "output_type": "stream",
     "text": [
      "58 is smaller than 62\n",
      "60 is greater than 50\n",
      "40 and 40 are equal\n"
     ]
    }
   ],
   "source": [
    "def number_arithmetic(num1,num2):\n",
    "    if num1 >= num2:\n",
    "        if num1==num2:\n",
    "            print(f'{num1} and {num2} are equal')\n",
    "        else:\n",
    "            print(f'{num1} is greater than {num2}')\n",
    "    else:\n",
    "        print(f'{num1} is smaller than {num2}')\n",
    "\n",
    "number_arithmetic(58,62)\n",
    "number_arithmetic(60,50)\n",
    "number_arithmetic(40,40)"
   ]
  },
  {
   "cell_type": "markdown",
   "id": "82f250dd",
   "metadata": {},
   "source": [
    "# Nested if statements"
   ]
  },
  {
   "cell_type": "markdown",
   "id": "b8c49a1c",
   "metadata": {},
   "source": [
    "We can have a if ... elif ... else statements inside another if ... elif statement. This is called nesting in computer programming.\n",
    "\n",
    "# Example"
   ]
  },
  {
   "cell_type": "code",
   "execution_count": 4,
   "id": "f6ca3030",
   "metadata": {},
   "outputs": [
    {
     "name": "stdout",
     "output_type": "stream",
     "text": [
      "Positive number\n"
     ]
    }
   ],
   "source": [
    "num = 10.5\n",
    "\n",
    "if num >= 0:\n",
    "    if num == 0:\n",
    "        print(\"Zero\")\n",
    "    else:\n",
    "        print(\"Positive number\")\n",
    "else:\n",
    "    print(\"Negative number\")"
   ]
  },
  {
   "cell_type": "markdown",
   "id": "5132cc03",
   "metadata": {},
   "source": [
    "# Python program to find the largest element among the three numbers"
   ]
  },
  {
   "cell_type": "code",
   "execution_count": 5,
   "id": "ba27ceb8",
   "metadata": {},
   "outputs": [
    {
     "name": "stdout",
     "output_type": "stream",
     "text": [
      "Enter value of a: 20\n",
      "Enter value of b: 10\n",
      "Enter value of c: 15\n",
      "The largest of three numbers is 20\n"
     ]
    }
   ],
   "source": [
    "a = int(input(\"Enter value of a: \"))\n",
    "b = int(input(\"Enter value of b: \"))\n",
    "c = int(input(\"Enter value of c: \"))\n",
    "\n",
    "if (a >= b) and (a >= c):\n",
    "    largest = a\n",
    "\n",
    "elif (b >= a) and (b >= c):\n",
    "    largest = b\n",
    "    \n",
    "else:\n",
    "    largest = c\n",
    "    \n",
    "print(f\"The largest of three numbers is {largest}\")"
   ]
  },
  {
   "cell_type": "markdown",
   "id": "42034a06",
   "metadata": {},
   "source": [
    "# Exercise 2 - Faulty Calculator\n",
    "\n",
    "45 * 3 = 555, 56+9 = 77, 56/6 = 4\n",
    "\n",
    "Design a calculator which will correctly solve all the problems except the following ones:\n",
    "\n",
    "45 * 3 = 555, 56+9 = 77, 56/6 = 4\n",
    "\n",
    "Your program should take operator  and the two numbers as input from the userand then return the result"
   ]
  },
  {
   "cell_type": "code",
   "execution_count": 11,
   "id": "67e3a6d2",
   "metadata": {},
   "outputs": [
    {
     "name": "stdout",
     "output_type": "stream",
     "text": [
      "Type in your first number here: 1\n",
      "Type in your second number here: 3\n",
      "1 3\n",
      "1. Add\n",
      "2. Sub\n",
      "3. Multi\n",
      "4. Div\n",
      "5. Exit\n",
      "1\n",
      "Your result is:  4\n",
      "1. Add\n",
      "2. Sub\n",
      "3. Multi\n",
      "4. Div\n",
      "5. Exit\n",
      "2\n",
      "Your result is:  -2\n",
      "1. Add\n",
      "2. Sub\n",
      "3. Multi\n",
      "4. Div\n",
      "5. Exit\n",
      "3\n",
      "Your result is:  3\n",
      "1. Add\n",
      "2. Sub\n",
      "3. Multi\n",
      "4. Div\n",
      "5. Exit\n",
      "4\n",
      "Your result is:  0.3333333333333333\n",
      "1. Add\n",
      "2. Sub\n",
      "3. Multi\n",
      "4. Div\n",
      "5. Exit\n",
      "5\n"
     ]
    }
   ],
   "source": [
    "a = int(input(\"Type in your first number here: \"))\n",
    "b = int(input(\"Type in your second number here: \"))\n",
    "\n",
    "print(a,b)\n",
    "while True:\n",
    "    print(\"1. Add\\n2. Sub\\n3. Multi\\n4. Div\\n5. Exit\")\n",
    "    c = int(input())\n",
    "    if c == 1:\n",
    "        if a == 56 and b == 9:\n",
    "            print(\"Your result is: 77\")\n",
    "        else:\n",
    "            print(\"Your result is: \",a + b)\n",
    "    elif c == 2:\n",
    "        d = a - b\n",
    "        print(\"Your result is: \",d)\n",
    "    elif c == 3:\n",
    "        if a == 45 and b == 3:\n",
    "            print(\"Your result is: 555\")\n",
    "        else:\n",
    "            print(\"Your result is: \",a * b)\n",
    "    elif c == 4:\n",
    "        if a == 56 and b == 6:\n",
    "            print(\"Your result is: 4\")\n",
    "        else:\n",
    "            print(\"Your result is: \",a / b)\n",
    "    elif c == 5:\n",
    "        break\n",
    "    else:\n",
    "        continue"
   ]
  },
  {
   "cell_type": "code",
   "execution_count": null,
   "id": "e6661842",
   "metadata": {},
   "outputs": [],
   "source": []
  }
 ],
 "metadata": {
  "kernelspec": {
   "display_name": "Python 3",
   "language": "python",
   "name": "python3"
  },
  "language_info": {
   "codemirror_mode": {
    "name": "ipython",
    "version": 3
   },
   "file_extension": ".py",
   "mimetype": "text/x-python",
   "name": "python",
   "nbconvert_exporter": "python",
   "pygments_lexer": "ipython3",
   "version": "3.8.8"
  }
 },
 "nbformat": 4,
 "nbformat_minor": 5
}
