{
 "cells": [
  {
   "cell_type": "markdown",
   "id": "2f44ea19",
   "metadata": {},
   "source": [
    "# Python Operators\n",
    "Learning the operators is an excellent place to start to learn Python. Operators are special symbols that perform specific operations on one or more operands (values) and then return a result. For example, you can calculate the sum of two numbers using an addition (+) operator.\n",
    "\n",
    "Operators are special symbols in python that carry out arithmetic or logical computation. The value that the operator operates on is called the operand.\n",
    "\n",
    "In 2 + 3, 2 and 3 are operands and + is operators\n",
    "\n",
    "Python has seven types of operators that we can use to perform different operation and produce a result.\n",
    "\n",
    "1. Arithmetic operator\n",
    "2. Relational (comparison) operators\n",
    "3. Assignment operators\n",
    "4. Logical operators\n",
    "5. Membership operators\n",
    "6. Identity operators\n",
    "7. Bitwise operators\n",
    "8. Special Operators"
   ]
  },
  {
   "cell_type": "markdown",
   "id": "c4480ab9",
   "metadata": {},
   "source": [
    "# Arithmetic Operators"
   ]
  },
  {
   "cell_type": "markdown",
   "id": "928e3dda",
   "metadata": {},
   "source": [
    "Arithmetic operators are used to perform mathematical operations like addition, subtraction, multiplication, etc.\n",
    "\n",
    "+, -, *, /, %, //, ** are arithmetic operators\n",
    "\n",
    "Arithmetic operators are the most commonly used. The Python programming language provides arithmetic operators that perform addition, subtraction, multiplication, and division. It works the same as basic mathematics.\n",
    "\n",
    "<img src=\"images/arithmetic_op.png\">"
   ]
  },
  {
   "cell_type": "code",
   "execution_count": 1,
   "id": "8f0b7762",
   "metadata": {},
   "outputs": [
    {
     "name": "stdout",
     "output_type": "stream",
     "text": [
      "Enter first number2\n",
      "Enter second number3\n",
      "First number is 2\n",
      "Second number is 3\n",
      "Addition of two number is  5\n",
      "Subtraction of two number is  -1\n",
      "Multiplication of two number is  6\n",
      "Division of two number is  0.6666666666666666\n",
      "Floor division of two number is -5\n",
      "Remainder of two numbers is 0\n",
      "Exponentation is 8\n",
      "Exponentation is  4\n"
     ]
    }
   ],
   "source": [
    "#example of using arithmetic operators\n",
    "num1=int(input('Enter first number'))\n",
    "num2=int(input('Enter second number'))\n",
    "\n",
    "print('First number is',num1)\n",
    "print('Second number is',num2)\n",
    "\n",
    "#addition\n",
    "a=num1+num2\n",
    "print('Addition of two number is ',a)\n",
    "\n",
    "#subtraction\n",
    "b=num1-num2\n",
    "print('Subtraction of two number is ',b)\n",
    "\n",
    "#Multiplication\n",
    "c=num1*num2\n",
    "print('Multiplication of two number is ',c)\n",
    "\n",
    "#Division\n",
    "d=num1/num2\n",
    "print('Division of two number is ',d)\n",
    "\n",
    "#Floor divison\n",
    "print('Floor division of two number is',a//b)\n",
    "\n",
    "#Modulus operator\n",
    "print('Remainder of two numbers is', a%b)\n",
    "\n",
    "#Exponentation ie num1 raise to num2 \n",
    "print('Exponentation is',num1**num2)\n",
    "print('Exponentation is ',num1**2)"
   ]
  },
  {
   "cell_type": "markdown",
   "id": "fece380a",
   "metadata": {},
   "source": [
    "# Comparison Operators"
   ]
  },
  {
   "cell_type": "markdown",
   "id": "968ba5b0",
   "metadata": {},
   "source": [
    "Comparison operator are used to compare value. it either returns True or False according to the condition. Relational operators are also called comparison operators. It performs a comparison between two values. It returns a boolean  True or False depending upon the result of the comparison.\n",
    "\n",
    "Python has the following six relational operators.\n",
    "\n",
    "<img src=\"images/comparison_op.png\">\n",
    "\n",
    "You can compare more than two values also. Assume variable x holds 10, variable y holds 5, and variable z holds 2.\n",
    "\n",
    "So print(x > y > z) will return True because x is greater than y, and y is greater than z, so it makes x is greater than z."
   ]
  },
  {
   "cell_type": "code",
   "execution_count": 2,
   "id": "071cfb47",
   "metadata": {},
   "outputs": [
    {
     "name": "stdout",
     "output_type": "stream",
     "text": [
      "True\n",
      "True\n",
      "False\n",
      "True\n",
      "False\n",
      "True\n",
      "True\n",
      "False\n",
      "True\n",
      "True\n",
      "False\n",
      "True\n"
     ]
    }
   ],
   "source": [
    "x = 10\n",
    "y = 5\n",
    "z = 2\n",
    "\n",
    "# > Greater than\n",
    "print(x > y)  # True\n",
    "print(x > y > z)  # True\n",
    "\n",
    "# < Less than\n",
    "print(x < y)  # False\n",
    "print(y < x)  # True\n",
    "\n",
    "# Equal to \n",
    "print(x == y)  # False \n",
    "print(x == 10)  # True \n",
    "\n",
    "# != Not Equal to \n",
    "print(x != y)  # True \n",
    "print(10 != x)  # False \n",
    "\n",
    "# >= Greater than equal to\n",
    "print(x >= y)  # True\n",
    "print(10 >= x)  # True\n",
    "\n",
    "# <= Less than equal to\n",
    "print(x <= y)  # False\n",
    "print(10 <= x)  # True"
   ]
  },
  {
   "cell_type": "markdown",
   "id": "4f9c634d",
   "metadata": {},
   "source": [
    "# Logical Operators"
   ]
  },
  {
   "cell_type": "markdown",
   "id": "c3047a47",
   "metadata": {},
   "source": [
    "The logical operators are used primarily in the expression evaluation to make a decision. Python supports the following logical operators. Logical operators are **and, or, not** operators.\n",
    "\n",
    "<img src=\"images/logical_op.png\">"
   ]
  },
  {
   "cell_type": "code",
   "execution_count": 9,
   "id": "8a664920",
   "metadata": {},
   "outputs": [
    {
     "name": "stdout",
     "output_type": "stream",
     "text": [
      "False\n",
      "True\n",
      "True\n"
     ]
    }
   ],
   "source": [
    "a, b = True, False\n",
    "\n",
    "#print a and b\n",
    "print(a and b)\n",
    "\n",
    "#print a or b\n",
    "print(a or b)\n",
    "\n",
    "#print not b\n",
    "print(not(b))"
   ]
  },
  {
   "cell_type": "markdown",
   "id": "1c5ece71",
   "metadata": {},
   "source": [
    "# Bitwise Operator"
   ]
  },
  {
   "cell_type": "markdown",
   "id": "037ee17f",
   "metadata": {},
   "source": [
    "Bitwise operator act on operands as if they are string of binary digits. It operates bit by bit.\n",
    "\n",
    "&, |, -, ^, >>, << are bitwise operators"
   ]
  },
  {
   "cell_type": "code",
   "execution_count": 10,
   "id": "aa411930",
   "metadata": {},
   "outputs": [
    {
     "name": "stdout",
     "output_type": "stream",
     "text": [
      "0\n",
      "14\n",
      "6\n",
      "14\n",
      "0\n",
      "160\n"
     ]
    }
   ],
   "source": [
    "a, b = 10, 4\n",
    "\n",
    "#Bitwise AND\n",
    "print(a & b)\n",
    "\n",
    "#Bitwise OR\n",
    "print(a | b)\n",
    "\n",
    "#Bitwise NOT\n",
    "print(a - b)\n",
    "\n",
    "#Bitwise XOR\n",
    "print(a ^ b)\n",
    "\n",
    "#bitwise rightshift\n",
    "print(a >> b)\n",
    "\n",
    "#Bitwise Leftshift\n",
    "print(a << b)"
   ]
  },
  {
   "cell_type": "markdown",
   "id": "fc7d50b5",
   "metadata": {},
   "source": [
    "# Assignment Operators"
   ]
  },
  {
   "cell_type": "markdown",
   "id": "49646b37",
   "metadata": {},
   "source": [
    "Assignment operators are used in Python to assign values to variables.\n",
    "\n",
    "a = 5 is a simple assignment operator that assigns the value 5 on the right to the variable a on the left.\n",
    "\n",
    "In Python, Assignment operators are used to assigning value to the variable. Assign operator is denoted by = symbol. For example, name = \"Jessa\" here, we have assigned the string literal ‘Jessa’ to a variable name.\n",
    "\n",
    "Also, there are shorthand assignment operators in Python. For example, a+=2 which is equivalent to a = a+2.\n",
    "\n",
    "<img src=\"images/assignment_op.png\">"
   ]
  },
  {
   "cell_type": "code",
   "execution_count": 3,
   "id": "156a78b2",
   "metadata": {},
   "outputs": [
    {
     "name": "stdout",
     "output_type": "stream",
     "text": [
      "6\n",
      "2\n",
      "8\n",
      "2.0\n",
      "16\n",
      "1\n",
      "2\n"
     ]
    }
   ],
   "source": [
    "a = 4\n",
    "b = 2\n",
    "\n",
    "a += b\n",
    "print(a)  # 6\n",
    "\n",
    "a = 4\n",
    "a -= 2\n",
    "print(a)  # 2\n",
    "\n",
    "a = 4\n",
    "a *= 2\n",
    "print(a)  # 8\n",
    "\n",
    "a = 4\n",
    "a /= 2\n",
    "print(a)  # 2.0\n",
    "\n",
    "a = 4\n",
    "a **= 2\n",
    "print(a)  # 16\n",
    "\n",
    "a = 5\n",
    "a %= 2\n",
    "print(a)  # 1\n",
    "\n",
    "a = 4\n",
    "a //= 2\n",
    "print(a)  # 2"
   ]
  },
  {
   "cell_type": "markdown",
   "id": "ca8d1e0d",
   "metadata": {},
   "source": [
    "# Special Operators"
   ]
  },
  {
   "cell_type": "markdown",
   "id": "af3e3636",
   "metadata": {},
   "source": [
    "**is** and **is not** are the identity operators in Python."
   ]
  },
  {
   "cell_type": "markdown",
   "id": "02cd286f",
   "metadata": {},
   "source": [
    "They are used to check if two values (or variables) are located on the same part of the memory."
   ]
  },
  {
   "cell_type": "code",
   "execution_count": 12,
   "id": "664d8d02",
   "metadata": {},
   "outputs": [
    {
     "name": "stdout",
     "output_type": "stream",
     "text": [
      "True\n"
     ]
    }
   ],
   "source": [
    "a = 5\n",
    "b = 5\n",
    "print(a is b) #5 is object created once both a and b points to same object\n",
    "\n",
    "#check is not"
   ]
  },
  {
   "cell_type": "code",
   "execution_count": 13,
   "id": "c08b5479",
   "metadata": {},
   "outputs": [
    {
     "name": "stdout",
     "output_type": "stream",
     "text": [
      "False\n"
     ]
    }
   ],
   "source": [
    "l1 = [1, 2, 3]\n",
    "l2 = [1, 2, 3]\n",
    "print(l1 is l2)  #It will return false since complex data structures does not have same memory location so in case of complex Data structure "
   ]
  },
  {
   "cell_type": "code",
   "execution_count": 14,
   "id": "b0e40b62",
   "metadata": {},
   "outputs": [
    {
     "name": "stdout",
     "output_type": "stream",
     "text": [
      "False\n"
     ]
    }
   ],
   "source": [
    "s1 = \"AAIC\"\n",
    "s2 = \"AAIC\"\n",
    "print(s1 is not s2)"
   ]
  },
  {
   "cell_type": "markdown",
   "id": "26069997",
   "metadata": {},
   "source": [
    "# Membership operators"
   ]
  },
  {
   "cell_type": "markdown",
   "id": "0153b7f2",
   "metadata": {},
   "source": [
    "**in** and **in not** are the membership operators in Python."
   ]
  },
  {
   "cell_type": "markdown",
   "id": "6841e5ab",
   "metadata": {},
   "source": [
    "They are used to test whether a value or variable is found in a sequence (string, list, tuple, set and dictonry)"
   ]
  },
  {
   "cell_type": "code",
   "execution_count": 15,
   "id": "6f8e1145",
   "metadata": {},
   "outputs": [
    {
     "name": "stdout",
     "output_type": "stream",
     "text": [
      "True\n",
      "False\n"
     ]
    }
   ],
   "source": [
    "lst = [1, 2, 3, 4]\n",
    "print(1 in lst)  #check 1 is present in a given list or not\n",
    "print(5 in lst)  #check 5 is present in a given list or not"
   ]
  },
  {
   "cell_type": "code",
   "execution_count": 16,
   "id": "7099edca",
   "metadata": {},
   "outputs": [
    {
     "name": "stdout",
     "output_type": "stream",
     "text": [
      "True\n"
     ]
    }
   ],
   "source": [
    "d = {1: 'a', 2: 'b'} #this is dictionary\n",
    "print(1 in d)"
   ]
  }
 ],
 "metadata": {
  "kernelspec": {
   "display_name": "Python 3",
   "language": "python",
   "name": "python3"
  },
  "language_info": {
   "codemirror_mode": {
    "name": "ipython",
    "version": 3
   },
   "file_extension": ".py",
   "mimetype": "text/x-python",
   "name": "python",
   "nbconvert_exporter": "python",
   "pygments_lexer": "ipython3",
   "version": "3.8.8"
  }
 },
 "nbformat": 4,
 "nbformat_minor": 5
}
