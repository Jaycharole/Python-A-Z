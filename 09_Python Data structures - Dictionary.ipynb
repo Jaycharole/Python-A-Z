{
 "cells": [
  {
   "cell_type": "markdown",
   "id": "ca4ae480",
   "metadata": {},
   "source": [
    "# Python Dictionary\n",
    "\n",
    "Python Dictionary is used to store the data in a key-value pair format. The dictionary is the data type in Python, which can simulate the real-life data arrangement where some specific value exists for some particular key. It is the mutable data-structure. The dictionary is defined into element Keys and values.\n",
    "\n",
    "1. Keys must be a single element\n",
    "2. Value can be any type such as list, tuple, integer, etc.\n",
    "\n",
    "In other words, we can say that a dictionary is the collection of key-value pairs where the value can be any Python object. In contrast, the keys are the immutable Python object, i.e., Numbers, string, or tuple."
   ]
  },
  {
   "cell_type": "markdown",
   "id": "fa53d459",
   "metadata": {},
   "source": [
    "# Some important concepts\n",
    "\n",
    "1. Python Dictionary is a set of key-value pairs. The keys are unique in a dictionary.\n",
    "\n",
    "2. A dictionary is an object of class dict. It’s an unordered collection.\n",
    "\n",
    "3. Dictionary keys must be immutable. So we can use string, numbers, tuple as dict key.\n",
    "\n",
    "4. If the tuple contains any mutable objects, we can’t use it as a dictionary key.\n",
    "5. We can’t use a List as a Dictionary key because they can be modified.\n",
    "\n",
    "6. A dictionary is created using a pair of braces. The key-value pairs are separated using a comma.\n",
    "\n",
    "7. The dictionary keys and values can be of any types. They can also be None.\n",
    "\n",
    "8. The key and its value are separated using a colon.\n",
    "\n",
    "9. Dictionary records are indexed using the key."
   ]
  },
  {
   "cell_type": "markdown",
   "id": "507f42a2",
   "metadata": {},
   "source": [
    "# Creating the dictionary\n",
    "The dictionary can be created by using multiple key-value pairs enclosed with the curly brackets {}, and each key is separated from its value by the colon (:).The syntax to define the dictionary is given below.\n",
    "\n",
    "Syntax:\n",
    "\n",
    "    {\"Key\",\"Value\"}"
   ]
  },
  {
   "cell_type": "code",
   "execution_count": 1,
   "id": "83bf7649",
   "metadata": {},
   "outputs": [],
   "source": [
    "Dict = {\"Name\": \"Tom\", \"Age\": 22}    "
   ]
  },
  {
   "cell_type": "markdown",
   "id": "d45864c2",
   "metadata": {},
   "source": [
    "In the above dictionary Dict, The keys Name and Age are the string that is an immutable object."
   ]
  },
  {
   "cell_type": "code",
   "execution_count": 4,
   "id": "e2782f7d",
   "metadata": {},
   "outputs": [
    {
     "name": "stdout",
     "output_type": "stream",
     "text": [
      "<class 'dict'>\n",
      "\n",
      "Printing employee data:\n",
      "{'Name': 'Jay', 'Age': 21, 'Salary': 25000, 'Company': 'ABC'}\n"
     ]
    }
   ],
   "source": [
    "emp = {\"Name\":\"Jay\", \"Age\":21, \"Salary\":25000, \"Company\":\"ABC\"}\n",
    "\n",
    "#type of the variable\n",
    "print(type(emp))\n",
    "\n",
    "print(\"\\nPrinting employee data:\")\n",
    "print(emp)"
   ]
  },
  {
   "cell_type": "markdown",
   "id": "30c7a9fb",
   "metadata": {},
   "source": [
    "Python provides the built-in function dict() method which is also used to create dictionary. The empty curly braces {} is used to create empty dictionary."
   ]
  },
  {
   "cell_type": "code",
   "execution_count": 7,
   "id": "2b27cee6",
   "metadata": {},
   "outputs": [
    {
     "name": "stdout",
     "output_type": "stream",
     "text": [
      "Empty Dictionary:\n",
      "{}\n",
      "\n",
      "Create dictionary by using dict():\n",
      "{1: 'Java', 2: 'Python'}\n",
      "\n",
      "Dictionary with each item as a pair:\n",
      "{1: 'Jay', 2: 'Aarya'}\n"
     ]
    }
   ],
   "source": [
    "# Creating an empty dictionary\n",
    "Dict = {}\n",
    "print(\"Empty Dictionary:\")\n",
    "print(Dict)\n",
    "\n",
    "# Creating a dictionary with dict() method\n",
    "Dict = dict({1:\"Java\", 2:\"Python\"})\n",
    "print(\"\\nCreate dictionary by using dict():\")\n",
    "print(Dict)\n",
    "\n",
    "# Creating a dictionary with each item as a pair\n",
    "Dict = dict([(1,'Jay'),(2,'Aarya')])\n",
    "print(\"\\nDictionary with each item as a pair:\")\n",
    "print(Dict)"
   ]
  },
  {
   "cell_type": "markdown",
   "id": "093e82a1",
   "metadata": {},
   "source": [
    "# Accessing the dictionary values\n",
    "\n",
    "We have discussed how the data can be accessed in the list and tuple by using the indexing.\n",
    "\n",
    "However, the values can be accessed in the dictionary by using the keys as keys are unique in the dictionary.\n",
    "\n",
    "The dictionary values can be accessed in the following way."
   ]
  },
  {
   "cell_type": "code",
   "execution_count": 27,
   "id": "f31dded3",
   "metadata": {},
   "outputs": [
    {
     "name": "stdout",
     "output_type": "stream",
     "text": [
      "{'Name': 'Jay', 'Age': 21, 'Salary': 25000, 'Company': 'ABC'}\n",
      "<class 'dict'>\n",
      "\n",
      "Printing Employee data....\n",
      "Name: Jay\n",
      "Age: 21\n",
      "Salary: 25000\n",
      "Company: ABC\n"
     ]
    }
   ],
   "source": [
    "emp = {\"Name\":\"Jay\", \"Age\":21, \"Salary\":25000, \"Company\":\"ABC\"}\n",
    "print(emp)\n",
    "print(type(emp))\n",
    "\n",
    "print(\"\\nPrinting Employee data....\")\n",
    "print(f'Name: {emp[\"Name\"]}')\n",
    "print(f'Age: {emp[\"Age\"]}')\n",
    "print(f'Salary: {emp[\"Salary\"]}')\n",
    "print(f'Company: {emp[\"Company\"]}')"
   ]
  },
  {
   "cell_type": "markdown",
   "id": "a0a016cb",
   "metadata": {},
   "source": [
    "Python provides us with an alternative to use the **get()** method to access the dictionary values. It would give the same result as given by the indexing."
   ]
  },
  {
   "cell_type": "code",
   "execution_count": 29,
   "id": "bf971190",
   "metadata": {},
   "outputs": [
    {
     "name": "stdout",
     "output_type": "stream",
     "text": [
      "{'Name': 'Jay', 'Age': 21, 'Salary': 25000, 'Company': 'ABC'}\n",
      "<class 'dict'>\n",
      "\n",
      "Printing Employee data....\n",
      "Name: Jay\n",
      "Age: 21\n",
      "Salary: 25000\n",
      "Company: ABC\n"
     ]
    }
   ],
   "source": [
    "emp = {\"Name\":\"Jay\", \"Age\":21, \"Salary\":25000, \"Company\":\"ABC\"}\n",
    "print(emp)\n",
    "print(type(emp))\n",
    "\n",
    "print(\"\\nPrinting Employee data....\")\n",
    "print(f'Name: {emp.get(\"Name\")}')\n",
    "print(f'Age: {emp.get(\"Age\")}')\n",
    "print(f'Salary: {emp.get(\"Salary\")}')\n",
    "print(f'Company: {emp.get(\"Company\")}')"
   ]
  },
  {
   "cell_type": "markdown",
   "id": "80f6c7bf",
   "metadata": {},
   "source": [
    "# Adding dictionary values\n",
    "\n",
    "The dictionary is a mutable data type, and its values can be updated by using the specific keys. The value can be updated along with key Dict[key] = value. The update() method is also used to update an existing value.\n",
    "\n",
    "Note: If the key-value already present in the dictionary, the value gets updated. Otherwise, the new keys added in the dictionary."
   ]
  },
  {
   "cell_type": "code",
   "execution_count": 33,
   "id": "90d2d623",
   "metadata": {},
   "outputs": [
    {
     "name": "stdout",
     "output_type": "stream",
     "text": [
      "Empty Dict:\n",
      "{}\n",
      "\n",
      "Dictionary after adding 3 elements:\n",
      "{0: 'Jay', 1: 'Aarya', 2: 'Vihaan', 3: 'Simmba'}\n",
      "\n",
      "Dictionary after adding 3 elements:\n",
      "{0: 'Jay', 1: 'Aarya', 2: 'Vihaan', 3: 'Simmba', 'Emp_ages': (20, 30, 40)}\n",
      "\n",
      "Updated Key value:\n",
      "{0: 'Jay', 1: 'Aarya', 2: 'Data Science', 3: 'Simmba', 'Emp_ages': (20, 30, 40)}\n"
     ]
    }
   ],
   "source": [
    "# Creating an element Dictionary\n",
    "Dict = {}\n",
    "print(\"Empty Dict:\")\n",
    "print(Dict)\n",
    "\n",
    "# Adding elements to dictionary one at a time\n",
    "Dict[0] = \"Jay\"\n",
    "Dict[1] = \"Aarya\"\n",
    "Dict[2] = \"Vihaan\"\n",
    "Dict[3] = \"Simmba\"\n",
    "print(\"\\nDictionary after adding 3 elements:\")\n",
    "print(Dict)\n",
    "\n",
    "# Adding set of values with a single key. Emp_ages doesn't exist to dict\n",
    "Dict['Emp_ages'] = 20,30,40\n",
    "print(\"\\nDictionary after adding 3 elements:\")\n",
    "print(Dict)\n",
    "\n",
    "#Updating existing key elements\n",
    "Dict[2]= 'Data Science'\n",
    "print(\"\\nUpdated Key value:\")\n",
    "print(Dict)"
   ]
  },
  {
   "cell_type": "code",
   "execution_count": 4,
   "id": "b5465564",
   "metadata": {},
   "outputs": [
    {
     "name": "stdout",
     "output_type": "stream",
     "text": [
      "Printing elements of Employee data:\n",
      "{'Name': 'Jay', 'Age': 29, 'Salary': 25000, 'Company': 'ABC'}\n",
      "\n",
      "Enter the details of the new employee...\n",
      "Name:Aarya\n",
      "Age:11\n",
      "Salary:25000\n",
      "CompanyXYZ\n",
      "\n",
      "Printing the new data\n",
      "{'Name': 'Aarya', 'Age': 11, 'Salary': 25000, 'Company': 'XYZ'}\n"
     ]
    }
   ],
   "source": [
    "#another example\n",
    "emp = {\"Name\":\"Jay\", \"Age\":29, \"Salary\":25000, \"Company\":\"ABC\"}\n",
    "\n",
    "print(\"Printing elements of Employee data:\")\n",
    "print(emp)\n",
    "\n",
    "print(\"\\nEnter the details of the new employee...\")\n",
    "emp[\"Name\"] = input(\"Name:\")\n",
    "emp[\"Age\"] = int(input(\"Age:\"))\n",
    "emp[\"Salary\"] = int(input(\"Salary:\"))\n",
    "emp[\"Company\"] = input(\"Company\")\n",
    "print(\"\\nPrinting the new data\")\n",
    "print(emp)"
   ]
  },
  {
   "cell_type": "code",
   "execution_count": 1,
   "id": "ff6090b7",
   "metadata": {},
   "outputs": [
    {
     "name": "stdout",
     "output_type": "stream",
     "text": [
      "Enter the first key of the fruits:Fruit\n",
      "Enter the value of the first key:Banana\n",
      "Enter the second key of the fruits:Vegetable\n",
      "Enter the value of the second key:Carrot\n",
      "{'Fruit': 'Banana', 'Vegetable': 'Carrot'}\n"
     ]
    }
   ],
   "source": [
    "fruits = {}\n",
    "\n",
    "key1 = input(\"Enter the first key of the fruits:\")\n",
    "value1 = input(\"Enter the value of the first key:\")\n",
    "key2 = input(\"Enter the second key of the fruits:\")\n",
    "value2 = input(\"Enter the value of the second key:\")\n",
    "\n",
    "fruits[key1] = value1\n",
    "fruits[key2] = value2\n",
    "\n",
    "print(fruits)"
   ]
  },
  {
   "cell_type": "code",
   "execution_count": 9,
   "id": "3080c70c",
   "metadata": {},
   "outputs": [
    {
     "name": "stdout",
     "output_type": "stream",
     "text": [
      "Enter how many employees you want to n2\n",
      "Enter the key:1\n",
      "Enter the value271\n",
      "Enter the key:2\n",
      "Enter the value182\n",
      "{'1': '271', '2': '182'}\n"
     ]
    }
   ],
   "source": [
    "emp = {}\n",
    "n = int(input(\"Enter how many employees you want to n\"))\n",
    "for i in range(n):\n",
    "    key = input(\"Enter the key:\")\n",
    "    value = input(\"Enter the value\")\n",
    "    emp[key] = value\n",
    "\n",
    "print(emp)"
   ]
  },
  {
   "cell_type": "code",
   "execution_count": 11,
   "id": "cd8e4674",
   "metadata": {},
   "outputs": [
    {
     "name": "stdout",
     "output_type": "stream",
     "text": [
      "Enter how many employees you want to n3\n",
      "\n",
      "Enter the details of the new employee...\n",
      "Name:Jay\n",
      "Age:21\n",
      "Salary:250000\n",
      "CompanyABC\n",
      "\n",
      "Enter the details of the new employee...\n",
      "Name:Arya\n",
      "Age:11\n",
      "Salary:2500000000\n",
      "CompanyXYZ\n",
      "\n",
      "Enter the details of the new employee...\n",
      "Name:Aniket\n",
      "Age:29\n",
      "Salary:282038201\n",
      "CompanySimens\n",
      "\n",
      "Printing Data:\n",
      "{'Name': 'Aniket', 'Age': 29, 'Salary': 282038201, 'Company': 'Simens'}\n"
     ]
    }
   ],
   "source": [
    "emp={}\n",
    "n = int(input(\"Enter how many employees you want to n\"))\n",
    "\n",
    "for i in range(n):\n",
    "    print(\"\\nEnter the details of the new employee...\")\n",
    "    emp[\"Name\"] = input(\"Name:\")\n",
    "    emp[\"Age\"] = int(input(\"Age:\"))\n",
    "    emp[\"Salary\"] = int(input(\"Salary:\"))\n",
    "    emp[\"Company\"] = input(\"Company\")\n",
    "    \n",
    "print(\"\\nPrinting Data:\")\n",
    "print(emp)"
   ]
  },
  {
   "cell_type": "markdown",
   "id": "28bc78c0",
   "metadata": {},
   "source": [
    "# Deleting elements using del keyword"
   ]
  },
  {
   "cell_type": "markdown",
   "id": "c3ad1252",
   "metadata": {},
   "source": [
    "The items of the dictionary can be deleted by using the del keyword as given below."
   ]
  },
  {
   "cell_type": "code",
   "execution_count": 12,
   "id": "8e5a21e6",
   "metadata": {},
   "outputs": [
    {
     "name": "stdout",
     "output_type": "stream",
     "text": [
      "Employee Data:\n",
      "{'Name': 'Aniket', 'Age': 29, 'Salary': 282038201, 'Company': 'Simens'}\n",
      "Deleting some of the employee data:\n",
      "Printing the modified information:\n",
      "{'Age': 29, 'Salary': 282038201}\n",
      "Deleting the dict employee\n",
      "Print emp\n"
     ]
    },
    {
     "ename": "NameError",
     "evalue": "name 'emp' is not defined",
     "output_type": "error",
     "traceback": [
      "\u001b[1;31m---------------------------------------------------------------------------\u001b[0m",
      "\u001b[1;31mNameError\u001b[0m                                 Traceback (most recent call last)",
      "\u001b[1;32m<ipython-input-12-48b284afadb1>\u001b[0m in \u001b[0;36m<module>\u001b[1;34m\u001b[0m\n\u001b[0;32m     15\u001b[0m \u001b[1;33m\u001b[0m\u001b[0m\n\u001b[0;32m     16\u001b[0m \u001b[0mprint\u001b[0m\u001b[1;33m(\u001b[0m\u001b[1;34m\"Print emp\"\u001b[0m\u001b[1;33m)\u001b[0m\u001b[1;33m\u001b[0m\u001b[1;33m\u001b[0m\u001b[0m\n\u001b[1;32m---> 17\u001b[1;33m \u001b[0mprint\u001b[0m\u001b[1;33m(\u001b[0m\u001b[0memp\u001b[0m\u001b[1;33m)\u001b[0m\u001b[1;33m\u001b[0m\u001b[1;33m\u001b[0m\u001b[0m\n\u001b[0m",
      "\u001b[1;31mNameError\u001b[0m: name 'emp' is not defined"
     ]
    }
   ],
   "source": [
    "Emp = {\"Name\":\"Jay\", \"Age\":21, \"salary\":25000, \"Company\":\"ABC\"}\n",
    "\n",
    "print(\"Employee Data:\")\n",
    "print(emp)\n",
    "\n",
    "print(\"Deleting some of the employee data:\")\n",
    "del emp[\"Name\"]\n",
    "del emp[\"Company\"]\n",
    "\n",
    "print(\"Printing the modified information:\")\n",
    "print(emp)\n",
    "\n",
    "print(\"Deleting the dict employee\")\n",
    "del emp\n",
    "\n",
    "print(\"Print emp\")\n",
    "print(emp)"
   ]
  },
  {
   "cell_type": "markdown",
   "id": "3091c3c3",
   "metadata": {},
   "source": [
    "The last print statement in the above code, it raised an error because we tried to print the Employee dictionary that already deleted."
   ]
  },
  {
   "cell_type": "markdown",
   "id": "4c04f3df",
   "metadata": {},
   "source": [
    "# Using pop() method\n",
    "\n",
    "The **pop()** method accepts the key as an argument and remove the associated value. "
   ]
  },
  {
   "cell_type": "code",
   "execution_count": 13,
   "id": "761db158",
   "metadata": {},
   "outputs": [
    {
     "name": "stdout",
     "output_type": "stream",
     "text": [
      "{1: 'Jay', 2: 'Aarya'}\n"
     ]
    }
   ],
   "source": [
    "dict = {1:\"Jay\",2:\"Aarya\",3:\"Simmba\"}\n",
    "\n",
    "# Deleting a key using pop() method\n",
    "pop_ele = dict.pop(3)\n",
    "print(dict)"
   ]
  },
  {
   "cell_type": "markdown",
   "id": "4fa41b05",
   "metadata": {},
   "source": [
    "Python also provides a built-in methods popitem() and clear() method for remove elements from the dictionary. The popitem() removes the arbitrary element from a dictionary, whereas the clear() method removes all elements to the whole dictionary."
   ]
  },
  {
   "cell_type": "markdown",
   "id": "7405d68e",
   "metadata": {},
   "source": [
    "# Iterating Dictionary\n",
    "\n",
    "A dictionary can be iterated using for loop"
   ]
  },
  {
   "cell_type": "code",
   "execution_count": 1,
   "id": "473834e1",
   "metadata": {},
   "outputs": [
    {
     "name": "stdout",
     "output_type": "stream",
     "text": [
      "Name\n",
      "Age\n",
      "Salary\n",
      "Company\n"
     ]
    }
   ],
   "source": [
    "# for loop to print all the keys of a dictionary\n",
    "emp = {'Name':'Jay', 'Age':21, 'Salary':25000, 'Company':'ABC'}\n",
    "for i in emp:\n",
    "    print(i)"
   ]
  },
  {
   "cell_type": "code",
   "execution_count": 2,
   "id": "0591c607",
   "metadata": {},
   "outputs": [
    {
     "name": "stdout",
     "output_type": "stream",
     "text": [
      "Jay\n",
      "21\n",
      "25000\n",
      "ABC\n"
     ]
    }
   ],
   "source": [
    "# for loop to print all the values of the dictionary\n",
    "emp = {'Name':'Jay', 'Age':21, 'Salary':25000, 'Company':'ABC'}\n",
    "for i in emp:\n",
    "    print(emp[i])"
   ]
  },
  {
   "cell_type": "code",
   "execution_count": 3,
   "id": "7db203d8",
   "metadata": {},
   "outputs": [
    {
     "name": "stdout",
     "output_type": "stream",
     "text": [
      "Jay\n",
      "21\n",
      "25000\n",
      "ABC\n"
     ]
    }
   ],
   "source": [
    "#for loop to print the values of the dictionary by using values()method\n",
    "emp = {'Name':'Jay', 'Age':21, 'Salary':25000, 'Company':'ABC'}\n",
    "for i in emp.values():\n",
    "    print(i)"
   ]
  },
  {
   "cell_type": "code",
   "execution_count": 4,
   "id": "de5ca4ec",
   "metadata": {},
   "outputs": [
    {
     "name": "stdout",
     "output_type": "stream",
     "text": [
      "('Name', 'Jay')\n",
      "('Age', 21)\n",
      "('Salary', 25000)\n",
      "('Company', 'ABC')\n"
     ]
    }
   ],
   "source": [
    "#for loop to print the items of the dict by using items() method\n",
    "emp = {'Name':'Jay', 'Age':21, 'Salary':25000, 'Company':'ABC'}\n",
    "for i in emp.items():\n",
    "    print(i)"
   ]
  },
  {
   "cell_type": "markdown",
   "id": "35d30ab1",
   "metadata": {},
   "source": [
    "# Properties of Dictionary keys\n",
    "\n",
    "1. In the dictionary, we cannot store multiple values for the same keys. If we pass more than one value for a single key, then the value which is last assigned is considered as the value of the key.\n"
   ]
  },
  {
   "cell_type": "code",
   "execution_count": 9,
   "id": "6f9425b8",
   "metadata": {},
   "outputs": [
    {
     "name": "stdout",
     "output_type": "stream",
     "text": [
      "Name:Jay\n",
      "Age:15\n",
      "Salary:25000\n",
      "Company:ABC\n"
     ]
    }
   ],
   "source": [
    "emp = {'Name':'Jay', 'Age':21, 'Salary':25000, 'Company':'ABC','Age':15}\n",
    "for x,y in emp.items():\n",
    "    print(f'{x}:{y}')"
   ]
  },
  {
   "cell_type": "markdown",
   "id": "fb496f37",
   "metadata": {},
   "source": [
    "2. In python, the key cannot be any mutable object. We can use numbers, strings, or tuples as the key, but we cannot use any mutable object like the list as the key in the dictionary."
   ]
  },
  {
   "cell_type": "code",
   "execution_count": 10,
   "id": "f8b160dd",
   "metadata": {},
   "outputs": [
    {
     "ename": "TypeError",
     "evalue": "unhashable type: 'list'",
     "output_type": "error",
     "traceback": [
      "\u001b[1;31m---------------------------------------------------------------------------\u001b[0m",
      "\u001b[1;31mTypeError\u001b[0m                                 Traceback (most recent call last)",
      "\u001b[1;32m<ipython-input-10-3e6deed2d034>\u001b[0m in \u001b[0;36m<module>\u001b[1;34m\u001b[0m\n\u001b[1;32m----> 1\u001b[1;33m emp = {'Name':'Jay', 'Age':21, 'Salary':25000, 'Company':'ABC',\n\u001b[0m\u001b[0;32m      2\u001b[0m       [100,201,20]:'DepartmentID'}\n\u001b[0;32m      3\u001b[0m \u001b[1;32mfor\u001b[0m \u001b[0mx\u001b[0m\u001b[1;33m,\u001b[0m\u001b[0my\u001b[0m \u001b[1;32min\u001b[0m \u001b[0memp\u001b[0m\u001b[1;33m.\u001b[0m\u001b[0mitems\u001b[0m\u001b[1;33m(\u001b[0m\u001b[1;33m)\u001b[0m\u001b[1;33m:\u001b[0m\u001b[1;33m\u001b[0m\u001b[1;33m\u001b[0m\u001b[0m\n\u001b[0;32m      4\u001b[0m     \u001b[0mprint\u001b[0m\u001b[1;33m(\u001b[0m\u001b[0mx\u001b[0m\u001b[1;33m,\u001b[0m\u001b[0my\u001b[0m\u001b[1;33m)\u001b[0m\u001b[1;33m\u001b[0m\u001b[1;33m\u001b[0m\u001b[0m\n",
      "\u001b[1;31mTypeError\u001b[0m: unhashable type: 'list'"
     ]
    }
   ],
   "source": [
    "emp = {'Name':'Jay', 'Age':21, 'Salary':25000, 'Company':'ABC',\n",
    "      [100,201,20]:'DepartmentID'}\n",
    "for x,y in emp.items():\n",
    "    print(x,y)"
   ]
  },
  {
   "cell_type": "markdown",
   "id": "345fa12c",
   "metadata": {},
   "source": [
    "# Built-in Dictionary functions"
   ]
  },
  {
   "cell_type": "markdown",
   "id": "00f54610",
   "metadata": {},
   "source": [
    "## len(dict)\n",
    "\n",
    "It is used to calculate the length of the dictionary."
   ]
  },
  {
   "cell_type": "code",
   "execution_count": 11,
   "id": "170940fe",
   "metadata": {},
   "outputs": [
    {
     "name": "stdout",
     "output_type": "stream",
     "text": [
      "4\n"
     ]
    }
   ],
   "source": [
    "emp = {'Name':'Jay', 'Age':21, 'Salary':25000, 'Company':'ABC'}\n",
    "print(len(emp))  # prints length of the dictionary"
   ]
  },
  {
   "cell_type": "markdown",
   "id": "faa98ec8",
   "metadata": {},
   "source": [
    "## str(dict)\n",
    "\n",
    "It converts the dictionary into the printable string representation."
   ]
  },
  {
   "cell_type": "code",
   "execution_count": 12,
   "id": "f807afe2",
   "metadata": {},
   "outputs": [
    {
     "name": "stdout",
     "output_type": "stream",
     "text": [
      "{'Name': 'Jay', 'Age': 21, 'Salary': 25000, 'Company': 'ABC'}\n"
     ]
    }
   ],
   "source": [
    "emp = {'Name':'Jay', 'Age':21, 'Salary':25000, 'Company':'ABC'}\n",
    "s = str(emp)\n",
    "print(s)"
   ]
  },
  {
   "attachments": {
    "image.png": {
     "image/png": "[encoded data removed]"
    }
   },
   "cell_type": "markdown",
   "id": "f8d5bbcc",
   "metadata": {},
   "source": [
    "## all()\n",
    "\n",
    "The all() function returns True if all elements in the given iterable are true. If not, it returns False.\n",
    "\n",
    "#### Syntax:\n",
    "\n",
    "    all(iterable)\n",
    "\n",
    "#### The all() function takes a single parameter:\n",
    "\n",
    "iterable - any iterable (list, tuple, dictionary, etc.) which contains the elements\n",
    "\n",
    "#### all() function returns:\n",
    "\n",
    "True - If all elements in an iterable are true\n",
    "False - If any element in an iterable is false\n",
    "\n",
    "\n",
    "![image.png](attachment:image.png)"
   ]
  },
  {
   "cell_type": "code",
   "execution_count": 19,
   "id": "2bb223c3",
   "metadata": {},
   "outputs": [
    {
     "name": "stdout",
     "output_type": "stream",
     "text": [
      "False\n",
      "True\n",
      "False\n",
      "True\n",
      "True\n"
     ]
    }
   ],
   "source": [
    "s = {0: 'False', 1: 'False'}\n",
    "print(all(s))\n",
    "\n",
    "s = {1: 'True', 2: 'True'}\n",
    "print(all(s))\n",
    "\n",
    "s = {1: 'True', False: 0}\n",
    "print(all(s))\n",
    "\n",
    "s = {}\n",
    "print(all(s))\n",
    "\n",
    "# 0 is False\n",
    "# '0' is True\n",
    "s = {'0': 'True'}\n",
    "print(all(s))"
   ]
  },
  {
   "cell_type": "markdown",
   "id": "0a445b8c",
   "metadata": {},
   "source": [
    "# Built-in Dictionary methods"
   ]
  },
  {
   "cell_type": "markdown",
   "id": "5a7a20ae",
   "metadata": {},
   "source": [
    "### dict.clear()\n",
    "\n",
    "It is used to delete all the items of the dictionary."
   ]
  },
  {
   "cell_type": "code",
   "execution_count": 14,
   "id": "311a0c9f",
   "metadata": {},
   "outputs": [
    {
     "name": "stdout",
     "output_type": "stream",
     "text": [
      "{}\n"
     ]
    }
   ],
   "source": [
    "emp = {'Name':'Jay', 'Age':21, 'Salary':25000, 'Company':'ABC'}\n",
    "emp.clear() # clears the elements of the emp dict\n",
    "print(emp)"
   ]
  },
  {
   "cell_type": "markdown",
   "id": "b1791aa9",
   "metadata": {},
   "source": [
    "### dict.copy()\n",
    "\n",
    "It returns a shallow coppy of the dictionary\n",
    "\n",
    "The syntax of copy() is:\n",
    "\n",
    "    dict.copy()"
   ]
  },
  {
   "cell_type": "code",
   "execution_count": 15,
   "id": "7ba1a2bf",
   "metadata": {},
   "outputs": [
    {
     "name": "stdout",
     "output_type": "stream",
     "text": [
      "{'Name': 'Jay', 'Age': 21, 'Salary': 25000, 'Company': 'ABC'}\n"
     ]
    }
   ],
   "source": [
    "emp = {'Name':'Jay', 'Age':21, 'Salary':25000, 'Company':'ABC'}\n",
    "emp1 = emp.copy()\n",
    "print(emp1)"
   ]
  },
  {
   "cell_type": "markdown",
   "id": "fa5463a6",
   "metadata": {},
   "source": [
    "### fromkeys()\n",
    "\n",
    "The fromkeys() method creates a new dictionary from the given sequence of elements with a value provided by the user.\n",
    "\n",
    "The syntax of fromkeys() method is:\n",
    "\n",
    "    dictionary.fromkeys(sequence[, value])\n",
    "    \n",
    "\n",
    "#### fromkeys() method takes two parameters:\n",
    "\n",
    "1. sequence - sequence of elements which is to be used as keys for the new dictionary\n",
    "\n",
    "2. value (Optional) - value which is set to each each element of the dictionary\n",
    "\n",
    "#### Return value from fromkeys()\n",
    "fromkeys() method returns a new dictionary with the given sequence of elements as the keys of the dictionary.\n",
    "\n",
    "If the value argument is set, each element of the newly created dictionary is set to the provided value."
   ]
  },
  {
   "cell_type": "code",
   "execution_count": 16,
   "id": "68ee9f72",
   "metadata": {},
   "outputs": [
    {
     "name": "stdout",
     "output_type": "stream",
     "text": [
      "{'e': None, 'i': None, 'o': None, 'a': None, 'u': None}\n"
     ]
    }
   ],
   "source": [
    "# create a dict from a sequence of keys\n",
    "\n",
    "#vowel keys\n",
    "keys = {'a', 'e', 'i', 'o', 'u'}\n",
    "\n",
    "vowels = dict.fromkeys(keys)\n",
    "print(vowels)"
   ]
  },
  {
   "cell_type": "code",
   "execution_count": 19,
   "id": "4be32467",
   "metadata": {},
   "outputs": [
    {
     "name": "stdout",
     "output_type": "stream",
     "text": [
      "{'e': 'vowel', 'i': 'vowel', 'o': 'vowel', 'a': 'vowel', 'u': 'vowel'}\n"
     ]
    }
   ],
   "source": [
    "# create a dictionary from a sequence of keys with value\n",
    "\n",
    "#vowels key\n",
    "keys = {'a', 'e', 'i', 'o', 'u'}\n",
    "value = 'vowel'\n",
    "\n",
    "vowels = dict.fromkeys(keys,value)\n",
    "print(vowels)"
   ]
  },
  {
   "cell_type": "code",
   "execution_count": 22,
   "id": "de22b98b",
   "metadata": {},
   "outputs": [
    {
     "name": "stdout",
     "output_type": "stream",
     "text": [
      "{'e': [1], 'i': [1], 'o': [1], 'a': [1], 'u': [1]}\n",
      "{'e': [1, 2], 'i': [1, 2], 'o': [1, 2], 'a': [1, 2], 'u': [1, 2]}\n"
     ]
    }
   ],
   "source": [
    "# Create a dict from mutable object list\n",
    "\n",
    "# vowels keys\n",
    "keys = {'a', 'e', 'i', 'o', 'u'}\n",
    "value = [1]\n",
    "\n",
    "vowels = dict.fromkeys(keys,value)\n",
    "print(vowels)\n",
    "\n",
    "#updating the value\n",
    "value.append(2)\n",
    "print(vowels)"
   ]
  },
  {
   "cell_type": "markdown",
   "id": "fc120394",
   "metadata": {},
   "source": [
    "### get()\n",
    "\n",
    "The get() method returns the value for the specified key if the key is in the dictionary.\n",
    "\n",
    "The syntax of get() is:\n",
    "\n",
    "    dict.get(key[, value]) \n",
    "    \n",
    "\n",
    "#### get() method takes maximum of two parameters:\n",
    "\n",
    "1. key - key to be searched in the dictionary\n",
    "2. value (optional) - Value to be returned if the key is not found. The default value is None.\n",
    "\n",
    "\n",
    "#### get() method returns:\n",
    "\n",
    "1. the value for the specified key if key is in the dictionary.\n",
    "2. None if the key is not found and value is not specified.\n",
    "3. value if the key is not found and value is specified."
   ]
  },
  {
   "cell_type": "code",
   "execution_count": 24,
   "id": "77c128aa",
   "metadata": {},
   "outputs": [
    {
     "name": "stdout",
     "output_type": "stream",
     "text": [
      "Name: Jay\n",
      "Age: 21\n",
      "Salary None\n",
      "Salary 250000\n"
     ]
    }
   ],
   "source": [
    "# Example 1: How does get() work for dictionaries?\n",
    "\n",
    "person = {'Name':'Jay', 'age':21}\n",
    "print('Name:',person.get('Name'))\n",
    "print('Age:',person.get('age'))\n",
    "\n",
    "#value is not provided\n",
    "print('Salary',person.get('salary'))\n",
    "\n",
    "#value is provided\n",
    "print('Salary',person.get('salary',250000))"
   ]
  },
  {
   "cell_type": "markdown",
   "id": "1cb66624",
   "metadata": {},
   "source": [
    "## items()\n",
    "\n",
    "The items() method returns a view object that displays a list of dictionary's (key,value) tuple pairs.\n",
    "\n",
    "Syntax:\n",
    "    \n",
    "    dict.items()\n",
    "    \n",
    "### items() Parameters\n",
    "The items() method doesn't take any parameters.\n",
    "\n",
    "### Return value from items()\n",
    "The items() method returns a view object that displays a list of a given dictionary's (key, value) tuple pair."
   ]
  },
  {
   "cell_type": "code",
   "execution_count": 1,
   "id": "c8ee97d6",
   "metadata": {},
   "outputs": [
    {
     "name": "stdout",
     "output_type": "stream",
     "text": [
      "dict_items([('apple', 2), ('orange', 3), ('grapes', 4)])\n"
     ]
    }
   ],
   "source": [
    "# Get all items of a dictionary with items()\n",
    "\n",
    "sales = {'apple':2, 'orange':3, 'grapes':4}\n",
    "print(sales.items())"
   ]
  },
  {
   "cell_type": "code",
   "execution_count": 2,
   "id": "d069c13f",
   "metadata": {},
   "outputs": [
    {
     "name": "stdout",
     "output_type": "stream",
     "text": [
      "Orignal items:  dict_items([('apple', 2), ('orange', 3), ('grapes', 4)])\n",
      "Updated items:  dict_items([('orange', 3), ('grapes', 4)])\n"
     ]
    }
   ],
   "source": [
    "# How items() works when a dictionary is modified?\n",
    "\n",
    "sales = {'apple':2, 'orange':3, 'grapes':4}\n",
    "\n",
    "items = sales.items()\n",
    "print(\"Orignal items: \",items)\n",
    "\n",
    "# delete an item from dictionary\n",
    "del[sales['apple']]\n",
    "print(\"Updated items: \",items)"
   ]
  },
  {
   "cell_type": "markdown",
   "id": "ec3e2bd2",
   "metadata": {},
   "source": [
    "The view object items doesn't itself return a list of sales items but it returns a view of sales's (key, value) pair.\n",
    "\n",
    "If the list is updated at any time, the changes are reflected on the view object itself, as shown in the above program."
   ]
  },
  {
   "cell_type": "markdown",
   "id": "cf9391dd",
   "metadata": {},
   "source": [
    "## keys()\n",
    "\n",
    "The keys() method returns a view object that displays a list of all the keys in the dictionary.\n",
    "\n",
    "Syntax:\n",
    "\n",
    "    dict.keys()\n",
    "    \n",
    "### keys() Parameters\n",
    "keys() doesn't take any parameters.\n",
    "\n",
    "### Return Value from keys()\n",
    "keys() returns a view object that displays a list of all the keys.\n",
    "\n",
    "When the dictionary is changed, the view object also reflects these changes."
   ]
  },
  {
   "cell_type": "code",
   "execution_count": 4,
   "id": "657235c5",
   "metadata": {},
   "outputs": [
    {
     "name": "stdout",
     "output_type": "stream",
     "text": [
      "dict_keys(['Name', 'age', 'sal'])\n",
      "dict_keys([])\n"
     ]
    }
   ],
   "source": [
    "# How keys() works?\n",
    "\n",
    "person = {'Name':'Jay', 'age':21, 'sal':250000}\n",
    "print(person.keys())\n",
    "\n",
    "empty_dict = {}\n",
    "print(empty_dict.keys())"
   ]
  },
  {
   "cell_type": "code",
   "execution_count": 5,
   "id": "bc493b7f",
   "metadata": {},
   "outputs": [
    {
     "name": "stdout",
     "output_type": "stream",
     "text": [
      "dict_keys(['Name', 'age'])\n",
      "\n",
      "After dictionary is updated:\n",
      "dict_keys(['Name', 'age', 'sal'])\n"
     ]
    }
   ],
   "source": [
    "# How keys() works when dictionary is updated?\n",
    "person = {'Name':'Jay', 'age':21}\n",
    "keys = person.keys()\n",
    "print(keys)\n",
    "\n",
    "#adding an element to the dictionary\n",
    "person.update({'sal':250000})\n",
    "print(\"\\nAfter dictionary is updated:\")\n",
    "print(keys)"
   ]
  },
  {
   "cell_type": "markdown",
   "id": "34b6cbf9",
   "metadata": {},
   "source": [
    "Here, when the dictionary is updated, keys is also automatically updated to reflect changes."
   ]
  },
  {
   "cell_type": "markdown",
   "id": "c1b717eb",
   "metadata": {},
   "source": [
    "## pop()\n",
    "\n",
    "The pop() method removes and returns an element from a dictionary having the given key.\n",
    "\n",
    "#### The syntax of pop() method is\n",
    "\n",
    "    dictionary.pop(key[, default])\n",
    "    \n",
    "\n",
    "#### pop() method takes two parameters:\n",
    "1. key - key which is to be searched for removal\n",
    "2. default - value which is to be returned when the key is not in the dictionary\n",
    "\n",
    "#### The pop() method returns:\n",
    "\n",
    "1. If key is found - removed/popped element from the dictionary\n",
    "2. If key is not found - value specified as the second argument (default)\n",
    "3. If key is not found and default argument is not specified - KeyError exception is raised"
   ]
  },
  {
   "cell_type": "code",
   "execution_count": 6,
   "id": "73f0268b",
   "metadata": {},
   "outputs": [
    {
     "name": "stdout",
     "output_type": "stream",
     "text": [
      "The popped element is: 2\n",
      "The dict is: {'orange': 3, 'grapes': 4}\n"
     ]
    }
   ],
   "source": [
    "# Pop an element from the dictionary\n",
    "\n",
    "sales = {'apple':2, 'orange':3, 'grapes':4}\n",
    "element = sales.pop('apple')\n",
    "print(\"The popped element is:\",element)\n",
    "print(\"The dict is:\",sales)"
   ]
  },
  {
   "cell_type": "code",
   "execution_count": 7,
   "id": "a1ce3973",
   "metadata": {},
   "outputs": [
    {
     "ename": "KeyError",
     "evalue": "'mango'",
     "output_type": "error",
     "traceback": [
      "\u001b[1;31m---------------------------------------------------------------------------\u001b[0m",
      "\u001b[1;31mKeyError\u001b[0m                                  Traceback (most recent call last)",
      "\u001b[1;32m<ipython-input-7-d33c77ec6325>\u001b[0m in \u001b[0;36m<module>\u001b[1;34m\u001b[0m\n\u001b[0;32m      2\u001b[0m \u001b[1;33m\u001b[0m\u001b[0m\n\u001b[0;32m      3\u001b[0m \u001b[0msales\u001b[0m \u001b[1;33m=\u001b[0m \u001b[1;33m{\u001b[0m\u001b[1;34m'apple'\u001b[0m\u001b[1;33m:\u001b[0m\u001b[1;36m2\u001b[0m\u001b[1;33m,\u001b[0m \u001b[1;34m'orange'\u001b[0m\u001b[1;33m:\u001b[0m\u001b[1;36m3\u001b[0m\u001b[1;33m,\u001b[0m \u001b[1;34m'grapes'\u001b[0m\u001b[1;33m:\u001b[0m\u001b[1;36m4\u001b[0m\u001b[1;33m}\u001b[0m\u001b[1;33m\u001b[0m\u001b[1;33m\u001b[0m\u001b[0m\n\u001b[1;32m----> 4\u001b[1;33m \u001b[0melement\u001b[0m \u001b[1;33m=\u001b[0m \u001b[0msales\u001b[0m\u001b[1;33m.\u001b[0m\u001b[0mpop\u001b[0m\u001b[1;33m(\u001b[0m\u001b[1;34m'mango'\u001b[0m\u001b[1;33m)\u001b[0m\u001b[1;33m\u001b[0m\u001b[1;33m\u001b[0m\u001b[0m\n\u001b[0m",
      "\u001b[1;31mKeyError\u001b[0m: 'mango'"
     ]
    }
   ],
   "source": [
    "# Pop an element not present from the dictionary. It will give key error.\n",
    "\n",
    "sales = {'apple':2, 'orange':3, 'grapes':4}\n",
    "element = sales.pop('mango')"
   ]
  },
  {
   "cell_type": "code",
   "execution_count": 8,
   "id": "d30ccbe2",
   "metadata": {},
   "outputs": [
    {
     "name": "stdout",
     "output_type": "stream",
     "text": [
      "The popped element is:  Banana\n",
      "The dictionary is:  {'apple': 2, 'orange': 3, 'grapes': 4}\n"
     ]
    }
   ],
   "source": [
    "# Pop an element not present from the dict, provided a default value\n",
    "\n",
    "sales = {'apple':2, 'orange':3, 'grapes':4}\n",
    "element = sales.pop('guava','Banana')\n",
    "print(\"The popped element is: \",element)\n",
    "print(\"The dictionary is: \",sales)"
   ]
  },
  {
   "cell_type": "markdown",
   "id": "94b7bcca",
   "metadata": {},
   "source": [
    "## popitem()\n",
    "\n",
    "The Python popitem() method removes and returns the last element (key, value) pair inserted into the dictionary.\n",
    "\n",
    "#### The syntax of popitem() is:\n",
    "\n",
    "    dict.popitem()\n",
    "    \n",
    "#### Parameters for popitem() method:\n",
    "The popitem() doesn't take any parameters.\n",
    "\n",
    "#### Return value from popitem() method:\n",
    "The popitem() method removes and returns the (key, value) pair from the dictionary in the Last In, First Out (LIFO) order.\n",
    "1. Returns the latest inserted element (key,value) pair from the dictionary.\n",
    "2. Removes the returned element pair from the dictionary."
   ]
  },
  {
   "cell_type": "code",
   "execution_count": 10,
   "id": "73e71343",
   "metadata": {},
   "outputs": [
    {
     "name": "stdout",
     "output_type": "stream",
     "text": [
      "Return value:  ('Salary', 250000)\n",
      "Person:  {'Name': 'Jay', 'age': 21}\n",
      "\n",
      "Person:  {'Name': 'Jay', 'age': 21, 'Profession': 'Data scientist'}\n",
      "Return value:  ('Profession', 'Data scientist')\n",
      "Person:  {'Name': 'Jay', 'age': 21}\n"
     ]
    }
   ],
   "source": [
    "person = {'Name':'Jay', 'age':21, 'Salary':250000}\n",
    "\n",
    "# ('salary',250000) is inserted at the last, so it is removed\n",
    "result = person.popitem()\n",
    "\n",
    "print('Return value: ',result)\n",
    "print('Person: ',person)\n",
    "\n",
    "# inserting a new element pair\n",
    "person['Profession'] = 'Data scientist'\n",
    "print('\\nPerson: ',person)\n",
    "\n",
    "# now ('profession','Data scientist') is the latest element\n",
    "result = person.popitem()\n",
    "\n",
    "print('Return value: ',result)\n",
    "print('Person: ',person)"
   ]
  },
  {
   "cell_type": "markdown",
   "id": "b59c28f1",
   "metadata": {},
   "source": [
    "**Note:** The popitem() method raises a KeyError error if the dictionary is empty."
   ]
  },
  {
   "cell_type": "markdown",
   "id": "c7a09fba",
   "metadata": {},
   "source": [
    "## setdefault()\n",
    "\n",
    "The setdefault() method returns the value of a key (if the key is in dictionary). If not, it inserts key with a value to the dictionary.\n",
    "\n",
    "#### The syntax of setdefault() is:\n",
    "\n",
    "    dict.setdefault(key[, default_value])\n",
    "    \n",
    "#### setdefault() takes a maximum of two parameters:\n",
    "\n",
    "1. key - the key to be searched in the dictionary\n",
    "2. default_value (optional) - key with a value default_value is inserted to the dictionary if the key is not in the dictionary.\n",
    "3. If not provided, the default_value will be None.\n",
    "\n",
    "#### setdefault() returns:\n",
    "\n",
    "1. value of the key if it is in the dictionary\n",
    "2. None if the key is not in the dictionary and default_value is not specified\n",
    "3. default_value if key is not in the dictionary and default_value is specified"
   ]
  },
  {
   "cell_type": "code",
   "execution_count": 13,
   "id": "15b893aa",
   "metadata": {},
   "outputs": [
    {
     "name": "stdout",
     "output_type": "stream",
     "text": [
      "Person:  {'Name': 'Jay', 'Age': 21}\n",
      "Age:  21\n"
     ]
    }
   ],
   "source": [
    "# How setdefault() works when key is in the dictionary?\n",
    "\n",
    "person = {'Name':'Jay', 'Age':21}\n",
    "age = person.setdefault('Age')\n",
    "print('Person: ',person)\n",
    "print('Age: ',age)"
   ]
  },
  {
   "cell_type": "code",
   "execution_count": 14,
   "id": "4919061b",
   "metadata": {},
   "outputs": [
    {
     "name": "stdout",
     "output_type": "stream",
     "text": [
      "Person:  {'Name': 'Jay', 'salary': None}\n",
      "Salary:  None\n",
      "Person:  {'Name': 'Jay', 'salary': None, 'age': 22}\n",
      "Age:  22\n"
     ]
    }
   ],
   "source": [
    "# How setdefault() works when key is not in the dictionary?\n",
    "\n",
    "person = {'Name':'Jay'}\n",
    "\n",
    "# key is not in the dictionary\n",
    "salary = person.setdefault('salary')\n",
    "print('Person: ',person)\n",
    "print('Salary: ',salary)\n",
    "\n",
    "# key is not in the dictionary default_value is provided\n",
    "age = person.setdefault('age',22)\n",
    "print('Person: ',person)\n",
    "print('Age: ',age)"
   ]
  },
  {
   "cell_type": "markdown",
   "id": "2aaf8887",
   "metadata": {},
   "source": [
    "## update()\n",
    "\n",
    "The update() method updates the dictionary with the elements from another dictionary object or from an iterable of key/value pairs.\n",
    "\n",
    "#### Syntax:\n",
    "\n",
    "    dict.updtae([other])\n",
    "    \n",
    "#### update() Parameters\n",
    "1. The update() method takes either a dictionary or an iterable object of key/value pairs (generally tuples).\n",
    "\n",
    "2. If update() is called without passing parameters, the dictionary remains unchanged.\n",
    "\n",
    "#### Return Value from update()\n",
    "1. update() method updates the dictionary with elements from a dictionary object or an iterable object of key/value pairs.\n",
    "\n",
    "2. It doesn't return any value (returns None)."
   ]
  },
  {
   "cell_type": "code",
   "execution_count": 15,
   "id": "5b200870",
   "metadata": {},
   "outputs": [
    {
     "name": "stdout",
     "output_type": "stream",
     "text": [
      "{1: 'one', 2: 'two'}\n",
      "{1: 'one', 2: 'two', 3: 'three'}\n"
     ]
    }
   ],
   "source": [
    "# working of update()\n",
    "\n",
    "d = {1:\"one\", 2:\"three\"}\n",
    "d1 = {2:\"two\"}\n",
    "\n",
    "# updates the value of the key 2\n",
    "d.update(d1)\n",
    "print(d)\n",
    "\n",
    "d1 = {3:\"three\"}\n",
    "\n",
    "# adds element with key 3\n",
    "d.update(d1)\n",
    "print(d)"
   ]
  },
  {
   "cell_type": "markdown",
   "id": "3ce4dfb2",
   "metadata": {},
   "source": [
    "**Note:** The update() method adds element(s) to the dictionary if the key is not in the dictionary. If the key is in the dictionary, it updates the key with the new value."
   ]
  },
  {
   "cell_type": "code",
   "execution_count": 16,
   "id": "66b36d84",
   "metadata": {},
   "outputs": [
    {
     "name": "stdout",
     "output_type": "stream",
     "text": [
      "{'x': 2, 'y': 3, 'z': 0}\n"
     ]
    }
   ],
   "source": [
    "# update() when tuple is passed\n",
    "\n",
    "d = {'x':2}\n",
    "d.update(y=3,z=0)\n",
    "print(d)"
   ]
  },
  {
   "cell_type": "markdown",
   "id": "860bda08",
   "metadata": {},
   "source": [
    "## values()\n",
    "\n",
    "The values() method returns a view object that displays a list of all the values in the dictionary.\n",
    "\n",
    "#### Syntax:\n",
    "\n",
    "    dictionary.values()\n",
    "    \n",
    "#### values() parameters\n",
    "values() method doesn't take any parameters.\n",
    "\n",
    "#### Return value from values()\n",
    "values() method returns a view object that displays a list of all values in a given dictionary."
   ]
  },
  {
   "cell_type": "code",
   "execution_count": 17,
   "id": "9edb7266",
   "metadata": {},
   "outputs": [
    {
     "name": "stdout",
     "output_type": "stream",
     "text": [
      "dict_values([2, 3, 4])\n"
     ]
    }
   ],
   "source": [
    "# Get all values from the dictionary\n",
    "\n",
    "sales = {'apple':2, 'orange':3, 'grapes':4}\n",
    "print(sales.values())"
   ]
  },
  {
   "cell_type": "code",
   "execution_count": 18,
   "id": "5e0ec52b",
   "metadata": {},
   "outputs": [
    {
     "name": "stdout",
     "output_type": "stream",
     "text": [
      "Orignal Items:  dict_values([2, 3, 4])\n",
      "Updated items:  dict_values([3, 4])\n"
     ]
    }
   ],
   "source": [
    "# How values() works when a dictionary is modified?\n",
    "\n",
    "sales = {'apple':2, 'orange':3, 'grapes':4}\n",
    "values = sales.values()\n",
    "print('Orignal Items: ',values)\n",
    "\n",
    "# delete an item from dictionary\n",
    "del[sales['apple']]\n",
    "print('Updated items: ',values)"
   ]
  },
  {
   "cell_type": "markdown",
   "id": "12e6c35b",
   "metadata": {},
   "source": [
    "The view object values doesn't itself return a list of sales item values but it returns a view of all values of the dictionary.\n",
    "\n",
    "If the list is updated at any time, the changes are reflected on the view object itself, as shown in the above program."
   ]
  },
  {
   "cell_type": "markdown",
   "id": "2d7f79cf",
   "metadata": {},
   "source": [
    "# Dictionary Comprehension\n",
    "\n",
    "Dictionary comprehension is an elegant and concise way to create dictionaries."
   ]
  },
  {
   "cell_type": "markdown",
   "id": "a1959f42",
   "metadata": {},
   "source": [
    "### EXAMPLE 1: Dictionary Comprehension"
   ]
  },
  {
   "cell_type": "code",
   "execution_count": 24,
   "id": "6ec2799c",
   "metadata": {},
   "outputs": [
    {
     "name": "stdout",
     "output_type": "stream",
     "text": [
      "Squares: {1: 1, 2: 4, 3: 9, 4: 16, 5: 25, 6: 36, 7: 49, 8: 64, 9: 81, 10: 100}\n"
     ]
    }
   ],
   "source": [
    "# consider the following code:\n",
    "\n",
    "square_dict = dict()\n",
    "for num in range(1,11):\n",
    "    square_dict[num] =  num*num\n",
    "print(\"Squares:\",square_dict)"
   ]
  },
  {
   "cell_type": "code",
   "execution_count": 27,
   "id": "f9e5ce0a",
   "metadata": {},
   "outputs": [
    {
     "name": "stdout",
     "output_type": "stream",
     "text": [
      "Squares: {1: 1, 2: 4, 3: 9, 4: 16, 5: 25, 6: 36, 7: 49, 8: 64, 9: 81, 10: 100}\n"
     ]
    }
   ],
   "source": [
    "# dictionary comprehnsion example\n",
    "square_dict = {num : num*num for num in range(1,11)}\n",
    "print(\"Squares:\",square_dict)"
   ]
  },
  {
   "cell_type": "markdown",
   "id": "4aa8d53c",
   "metadata": {},
   "source": [
    "In both programs, we have created a dictionary square_dict with number-square key/value pair.\n",
    "\n",
    "However, using dictionary comprehension allowed us to create a dictionary in a single line."
   ]
  },
  {
   "attachments": {
    "image.png": {
     "image/png": "[encoded data removed]"
    }
   },
   "cell_type": "markdown",
   "id": "4125487c",
   "metadata": {},
   "source": [
    "## Using Dictionary Comprehension\n",
    "\n",
    "From the above example, we can see that dictionary comprehension should be written in a specific pattern.\n",
    "\n",
    "The minimal syntax for dictionary comprehension is:\n",
    "\n",
    "    dictionary = {key: value for vars in iterable}\n",
    "    \n",
    "Let's compare this syntax with dictionary comprehension from the above example.\n",
    "\n",
    "![image.png](attachment:image.png)"
   ]
  },
  {
   "cell_type": "code",
   "execution_count": 28,
   "id": "4dcfe712",
   "metadata": {},
   "outputs": [
    {
     "name": "stdout",
     "output_type": "stream",
     "text": [
      "{'milk': 0.7752, 'coffee': 1.9, 'bread': 1.9}\n"
     ]
    }
   ],
   "source": [
    "#item price in dollars\n",
    "old_price = {'milk': 1.02, 'coffee': 2.5, 'bread': 2.5}\n",
    "\n",
    "dollar_to_pound = 0.76\n",
    "new_price = {item: value*dollar_to_pound for (item, value) in old_price.items()}\n",
    "print(new_price)\n"
   ]
  },
  {
   "cell_type": "markdown",
   "id": "d713cc6e",
   "metadata": {},
   "source": [
    "Here, we can see that we retrieved the item prices in dollars and converted them to pounds. Using dictionary comprehension makes this task much simpler and shorter.\n",
    "\n"
   ]
  },
  {
   "cell_type": "code",
   "execution_count": 29,
   "id": "9d58dae5",
   "metadata": {},
   "outputs": [
    {
     "name": "stdout",
     "output_type": "stream",
     "text": [
      "{'jack': 38, 'michael': 48}\n"
     ]
    }
   ],
   "source": [
    "# If Conditional Dictionary Comprehension\n",
    "original_dict = {'jack': 38, 'michael': 48, 'guido': 57, 'john': 33}\n",
    "\n",
    "even_dict = {k: v for (k, v) in original_dict.items() if v % 2 == 0}\n",
    "print(even_dict)"
   ]
  },
  {
   "cell_type": "markdown",
   "id": "39bd42d1",
   "metadata": {},
   "source": [
    "## Advantages of Using Dictionary Comprehension\n",
    "1. As we can see, dictionary comprehension shortens the process of dictionary initialization by a lot. It makes the code more pythonic.\n",
    "\n",
    "2. Using dictionary comprehension in our code can shorten the lines of code while keeping the logic intact.\n",
    "\n",
    "## Warnings on Using Dictionary Comprehension\n",
    "Even though dictionary comprehensions are great for writing elegant code that is easy to read, they are not always the right choice.\n",
    "\n",
    "We must be careful while using them as :\n",
    "1. They can sometimes make the code run slower and consume more memory.\n",
    "2. They can also decrease the readability of the code.\n",
    "\n",
    "We must not try to fit a difficult logic or a large number of dictionary comprehension inside them just for the sake of making the code single lined. In these cases, It is better to choose other alternatives like loops."
   ]
  },
  {
   "cell_type": "markdown",
   "id": "76f9cee0",
   "metadata": {},
   "source": [
    "# Python Nested Dictionary\n",
    "\n",
    "In Python, a nested dictionary is a dictionary inside a dictionary. It's a collection of dictionaries into one single dictionary.\n",
    "\n",
    "#### Syntax:\n",
    "\n",
    "    nested_dict = { 'dictA': {'key_1': 'value_1'},\n",
    "                'dictB': {'key_2': 'value_2'}}\n",
    "\n",
    "Here, the nested_dict is a nested dictionary with the dictionary dictA and dictB. They are two dictionary each having own key and value."
   ]
  },
  {
   "cell_type": "code",
   "execution_count": 30,
   "id": "1e55e6eb",
   "metadata": {},
   "outputs": [
    {
     "name": "stdout",
     "output_type": "stream",
     "text": [
      "{1: {'Name': 'Jay', 'age': 21, 'sal': 25000}, 2: {'Name': 'Aarya', 'age': 11, 'sal': 55000}}\n"
     ]
    }
   ],
   "source": [
    "# How to create a nested dict\n",
    "\n",
    "people = {1: {'Name':'Jay', 'age':21, 'sal':25000},\n",
    "         2: {'Name':'Aarya', 'age':11, 'sal':55000}}\n",
    "\n",
    "print(people)"
   ]
  },
  {
   "cell_type": "markdown",
   "id": "08b8528e",
   "metadata": {},
   "source": [
    "In the above program, people is a nested dictionary. The internal dictionary 1 and 2 is assigned to people. Here, both the dictionary have key name, age , sex with different values. Now, we print the result of people."
   ]
  },
  {
   "cell_type": "code",
   "execution_count": 32,
   "id": "83094bd5",
   "metadata": {},
   "outputs": [
    {
     "name": "stdout",
     "output_type": "stream",
     "text": [
      "Jay\n",
      "21\n",
      "25000\n",
      "Aarya\n",
      "11\n",
      "55000\n"
     ]
    }
   ],
   "source": [
    "# Access the elements using the [] syntax:\n",
    "\n",
    "people = {1: {'Name':'Jay', 'age':21, 'sal':25000},\n",
    "         2: {'Name':'Aarya', 'age':11, 'sal':55000}}\n",
    "\n",
    "print(people[1]['Name'])\n",
    "print(people[1]['age'])\n",
    "print(people[1]['sal'])\n",
    "\n",
    "print(people[2]['Name'])\n",
    "print(people[2]['age'])\n",
    "print(people[2]['sal'])"
   ]
  },
  {
   "cell_type": "code",
   "execution_count": 33,
   "id": "ca2c7f54",
   "metadata": {},
   "outputs": [
    {
     "name": "stdout",
     "output_type": "stream",
     "text": [
      "{'Name': 'Simmba', 'age': 2, 'sal': 'Jobless', 'sex': 'Male'}\n"
     ]
    }
   ],
   "source": [
    "# How to change or add elements in a nested dictionary?\n",
    "\n",
    "people = {1: {'Name':'Jay', 'age':21, 'sal':25000},\n",
    "         2: {'Name':'Aarya', 'age':11, 'sal':55000}}\n",
    "\n",
    "people[3] = {}\n",
    "\n",
    "people[3]['Name'] = 'Simmba'\n",
    "people[3]['age'] = 2\n",
    "people[3]['sal'] = 'Jobless'\n",
    "people[3]['sex'] = 'Male'\n",
    "\n",
    "print(people[3])"
   ]
  },
  {
   "cell_type": "code",
   "execution_count": 36,
   "id": "a5c0038f",
   "metadata": {},
   "outputs": [
    {
     "name": "stdout",
     "output_type": "stream",
     "text": [
      "{'name': 'Peter', 'age': '29', 'sex': 'Male', 'married': 'Yes'}\n",
      "\n",
      " {1: {'name': 'John', 'age': '27', 'sex': 'Male'}, 2: {'name': 'Marie', 'age': '22', 'sex': 'Female'}, 3: {'name': 'Luna', 'age': '24', 'sex': 'Female', 'married': 'No'}, 4: {'name': 'Peter', 'age': '29', 'sex': 'Male', 'married': 'Yes'}}\n"
     ]
    }
   ],
   "source": [
    "# Adding another dictionary to the nested dictionary\n",
    "\n",
    "people = {1: {'name': 'John', 'age': '27', 'sex': 'Male'},\n",
    "          2: {'name': 'Marie', 'age': '22', 'sex': 'Female'},\n",
    "          3: {'name': 'Luna', 'age': '24', 'sex': 'Female', 'married': 'No'}}\n",
    "\n",
    "people[4] = {'name': 'Peter', 'age': '29', 'sex': 'Male', 'married': 'Yes'}\n",
    "print(people[4])\n",
    "\n",
    "print(\"\\n\",people)"
   ]
  },
  {
   "cell_type": "code",
   "execution_count": 37,
   "id": "f7c35acd",
   "metadata": {},
   "outputs": [
    {
     "name": "stdout",
     "output_type": "stream",
     "text": [
      "{'name': 'Luna', 'age': '24', 'sex': 'Female'}\n",
      "{'name': 'Peter', 'age': '29', 'sex': 'Male'}\n"
     ]
    }
   ],
   "source": [
    "# How to delete elements from a nested dict?\n",
    "\n",
    "people = {1: {'name': 'John', 'age': '27', 'sex': 'Male'},\n",
    "          2: {'name': 'Marie', 'age': '22', 'sex': 'Female'},\n",
    "          3: {'name': 'Luna', 'age': '24', 'sex': 'Female', 'married': 'No'},\n",
    "          4: {'name': 'Peter', 'age': '29', 'sex': 'Male', 'married': 'Yes'}}\n",
    "\n",
    "del people[3]['married']\n",
    "del people[4]['married']\n",
    "\n",
    "print(people[3])\n",
    "print(people[4])"
   ]
  },
  {
   "cell_type": "code",
   "execution_count": 38,
   "id": "186a147c",
   "metadata": {},
   "outputs": [
    {
     "name": "stdout",
     "output_type": "stream",
     "text": [
      "{1: {'name': 'John', 'age': '27', 'sex': 'Male'}, 2: {'name': 'Marie', 'age': '22', 'sex': 'Female'}}\n"
     ]
    }
   ],
   "source": [
    "# How to delete dict from a nested dict?\n",
    "\n",
    "people = {1: {'name': 'John', 'age': '27', 'sex': 'Male'},\n",
    "          2: {'name': 'Marie', 'age': '22', 'sex': 'Female'},\n",
    "          3: {'name': 'Luna', 'age': '24', 'sex': 'Female'},\n",
    "          4: {'name': 'Peter', 'age': '29', 'sex': 'Male'}}\n",
    "\n",
    "del people[3], people[4]\n",
    "print(people)"
   ]
  },
  {
   "cell_type": "code",
   "execution_count": 39,
   "id": "a124765a",
   "metadata": {},
   "outputs": [
    {
     "name": "stdout",
     "output_type": "stream",
     "text": [
      "\n",
      "Person ID: 1\n",
      "Name: John\n",
      "Age: 27\n",
      "Sex: Male\n",
      "\n",
      "Person ID: 2\n",
      "Name: Marie\n",
      "Age: 22\n",
      "Sex: Female\n"
     ]
    }
   ],
   "source": [
    "# How to iterate through a Nested dictionary?\n",
    "\n",
    "people = {1: {'Name': 'John', 'Age': '27', 'Sex': 'Male'},\n",
    "          2: {'Name': 'Marie', 'Age': '22', 'Sex': 'Female'}}\n",
    "\n",
    "for p_id, p_info in people.items():\n",
    "    print(\"\\nPerson ID:\", p_id)\n",
    "    \n",
    "    for key in p_info:\n",
    "        print(key + ':', p_info[key])"
   ]
  },
  {
   "cell_type": "markdown",
   "id": "628799ea",
   "metadata": {},
   "source": [
    "# Key Points to Remember:\n",
    "1. Nested dictionary is an unordered collection of dictionary\n",
    "2. Slicing Nested Dictionary is not possible.\n",
    "3. We can shrink or grow nested dictionary as need.\n",
    "4. Like Dictionary, it also has key and value.\n",
    "5. Dictionary are accessed using key."
   ]
  }
 ],
 "metadata": {
  "kernelspec": {
   "display_name": "Python 3",
   "language": "python",
   "name": "python3"
  },
  "language_info": {
   "codemirror_mode": {
    "name": "ipython",
    "version": 3
   },
   "file_extension": ".py",
   "mimetype": "text/x-python",
   "name": "python",
   "nbconvert_exporter": "python",
   "pygments_lexer": "ipython3",
   "version": "3.8.8"
  }
 },
 "nbformat": 4,
 "nbformat_minor": 5
}
